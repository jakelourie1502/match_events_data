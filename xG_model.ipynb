{
 "cells": [
  {
   "cell_type": "markdown",
   "metadata": {},
   "source": [
    "## Document Overview\n",
    "\n",
    "Tracking data has allowed us to record vital information during football games, with around 2000 events being tracked per game. Included in this is metadata that describes the location of the ball during every action, the foot/head it was kicked with, whether or not the event was a set piece or not.\n",
    "\n",
    "#### The Problem\n",
    "\n",
    "Football is a very low scoring game. Therefore, football analysts may not derive the correct inference from analysing only the number of goals a team scores, as over even a reasonably large sample size there is a very large amount of 'luck' or random error. Analysing the choice to shoot, or the performance of a team in a specific game, we must go beyond looking at either a) did the shot end in a goal or b) did the team win the match. This allows analysts and coaches to better create repeatable performance behaviours.\n",
    "\n",
    "These two concrete cases are the motivation for this project. By analysing event data, we will see if we can derive an estimate for \"how likely was that to end up as a goal, based on the position it was shot from\" - this is crucial for then analysing whether there was a better option for the player (e.g. passing - although the other options are out of scope for this project). Secondly, by looking at aggregated event data across a whole match, we will see how accurately we are able to predict the result in a given match. This understanding of the 'input metrics' which often lead to strong performance metrics will allow coaches to be able to correctly analyse the performance of a team in a match, even if the score does not necessarily reflect the overall play.\n",
    "\n",
    "\n",
    "### Sections\n",
    "\n",
    "#### [Section 1 - Loading the data](#1)\n",
    "\n",
    "#### [Section 2 - Data exploration, getting acquainted with the different metrics available](#2)\n",
    "\n",
    "#### [Section 3 - Creating dummy variables / scaling data when appropriate](#3)\n",
    "\n",
    "#### [Section 4 - Building and analysing the \"Expected goal (shot value)\" models](#4)\n",
    "        \n",
    "#####   --[4a - MinMax scaling and polynomial features](#4a)\n",
    "        \n",
    "#####   --[4b - Logistic regression](#4b)\n",
    "        \n",
    "#####   --[4c - ROC-AUC curve](#4c)\n",
    "        \n",
    "#####   --[4d - Decision Tree](#4d)\n",
    "        \n",
    "#####   --[4e - Threshold optimisation](#4e)\n",
    "        \n",
    "#####   --[4f - Test Set](#4f)\n",
    "        \n",
    "#### [Section 5 - Predicting match outcome using the expected goal (shot value) model](#5)\n",
    "\n",
    "#####   --[5a - What's the base case?](#5a)\n",
    "        \n",
    "#####   --[5b - Linear regression](#5b)\n",
    "        \n",
    "#####   --[5c - Logistic regression](#5c)\n",
    "        \n",
    "#####   --[5d - KNN](#5d)\n",
    "        \n",
    "#####   --[5e - Using Bayes theory to solve the problem analytically](#5e)\n",
    "        \n",
    "#####   --[5f - Test Set](#5f)"
   ]
  },
  {
   "cell_type": "code",
   "execution_count": 1,
   "metadata": {},
   "outputs": [],
   "source": [
    "import numpy as np \n",
    "import pandas as pd \n",
    "import json\n",
    "from matplotlib.patches import Arc, Rectangle, ConnectionPatch\n",
    "from matplotlib.offsetbox import  OffsetImage\n",
    "import matplotlib.pyplot as plt\n",
    "import statsmodels.api as sm\n",
    "from sklearn.model_selection import train_test_split\n",
    "import warnings\n",
    "warnings.filterwarnings(\"ignore\")\n",
    "import os"
   ]
  },
  {
   "cell_type": "markdown",
   "metadata": {},
   "source": [
    "<a name='1'></a>\n",
    "\n",
    "## Section 1 - Loading the data\n",
    "\n",
    "## Initially let's load Events, team and match data\n",
    "\n",
    "Data comes from top 5 eu leaves, plus euros and world cup \n",
    "https://figshare.com/collections/Soccer_match_event_dataset/4415000/5\n",
    "\n"
   ]
  },
  {
   "cell_type": "code",
   "execution_count": 2,
   "metadata": {},
   "outputs": [],
   "source": [
    "#start with one events file\n",
    "event_data_file = '/Users/jacoblourie/events_data/events1/events_England.json'\n",
    "df = pd.read_json(event_data_file)"
   ]
  },
  {
   "cell_type": "code",
   "execution_count": 3,
   "metadata": {},
   "outputs": [],
   "source": [
    "#then do the rest\n",
    "events_data_folder = os.listdir('/Users/jacoblourie/events_data/events1/')\n",
    "for suffix in events_data_folder:\n",
    "    if 'England' not in suffix:\n",
    "        df = df.append(pd.read_json('/Users/jacoblourie/events_data/events1/'+suffix))"
   ]
  },
  {
   "cell_type": "code",
   "execution_count": 4,
   "metadata": {},
   "outputs": [],
   "source": [
    "df = df.reset_index().drop(columns='index')"
   ]
  },
  {
   "cell_type": "code",
   "execution_count": 5,
   "metadata": {},
   "outputs": [],
   "source": [
    "#also load the teams data\n",
    "with open('/Users/jacoblourie/events_data/teams.json', 'r') as f:\n",
    "    teams = json.load(f)"
   ]
  },
  {
   "cell_type": "code",
   "execution_count": 6,
   "metadata": {},
   "outputs": [],
   "source": [
    "#put it into an easy to use dictionary\n",
    "teams_dict = {}\n",
    "for team in teams:\n",
    "    teams_dict[team['wyId']] = team['name']"
   ]
  },
  {
   "cell_type": "code",
   "execution_count": 7,
   "metadata": {},
   "outputs": [],
   "source": [
    "#Now let's load the matches data - one example\n",
    "match_dir = '/Users/jacoblourie/events_data/matches/'\n",
    "matches_df = pd.read_json(match_dir+'matches_England.json')\n",
    "#and load athe rest\n",
    "match_suffixes = os.listdir(match_dir)\n",
    "for suffix in match_suffixes:\n",
    "    if 'England' not in suffix:\n",
    "        matches_df = matches_df.append(pd.read_json(match_dir+suffix))"
   ]
  },
  {
   "cell_type": "code",
   "execution_count": 8,
   "metadata": {},
   "outputs": [],
   "source": [
    "#now apply functions to add home team id and name, and the score - THIS IS VERY FIDDLY, YOU HAVE TO LOOK INTO THE TEAMS DATA COLUMN TO UNDERSTAND IT.\n",
    "matches_df['home_team_id'] = matches_df['teamsData'].apply(lambda x: x[list(x.keys())[0]]['teamId'] if x[list(x.keys())[0]]['side'] == 'home' else x[list(x.keys())[1]]['teamId'])\n",
    "matches_df['away_team_id'] = matches_df['teamsData'].apply(lambda x: x[list(x.keys())[1]]['teamId'] if x[list(x.keys())[1]]['side'] == 'away' else x[list(x.keys())[0]]['teamId'])\n",
    "\n",
    "matches_df['home_team_score'] = matches_df['teamsData'].apply(lambda x: x[list(x.keys())[0]]['score'] if x[list(x.keys())[0]]['side'] == 'home' else x[list(x.keys())[1]]['score'])\n",
    "matches_df['away_team_score'] = matches_df['teamsData'].apply(lambda x: x[list(x.keys())[1]]['score'] if x[list(x.keys())[1]]['side'] == 'away' else x[list(x.keys())[0]]['score'])\n",
    "matches_df['home_team'] = matches_df['home_team_id'].apply(lambda x: teams_dict[x])\n",
    "matches_df['away_team'] = matches_df['away_team_id'].apply(lambda x: teams_dict[x])\n"
   ]
  },
  {
   "cell_type": "code",
   "execution_count": 9,
   "metadata": {},
   "outputs": [],
   "source": [
    "#Finally, let's load the competitions data in\n",
    "with open('/Users/jacoblourie/events_data/competitions.json', 'r') as f:\n",
    "    competitions = json.load(f)\n",
    "competitions_dict = {}\n",
    "for comp in competitions:\n",
    "    competitions_dict[comp['wyId']] = comp['name']"
   ]
  },
  {
   "cell_type": "code",
   "execution_count": 10,
   "metadata": {},
   "outputs": [],
   "source": [
    "#and add this to the matches_df table\n",
    "matches_df['competition'] = matches_df['competitionId'].apply(lambda x: competitions_dict[x])"
   ]
  },
  {
   "cell_type": "code",
   "execution_count": 11,
   "metadata": {},
   "outputs": [
    {
     "data": {
      "text/html": [
       "<div>\n",
       "<style scoped>\n",
       "    .dataframe tbody tr th:only-of-type {\n",
       "        vertical-align: middle;\n",
       "    }\n",
       "\n",
       "    .dataframe tbody tr th {\n",
       "        vertical-align: top;\n",
       "    }\n",
       "\n",
       "    .dataframe thead th {\n",
       "        text-align: right;\n",
       "    }\n",
       "</style>\n",
       "<table border=\"1\" class=\"dataframe\">\n",
       "  <thead>\n",
       "    <tr style=\"text-align: right;\">\n",
       "      <th></th>\n",
       "      <th>status</th>\n",
       "      <th>roundId</th>\n",
       "      <th>gameweek</th>\n",
       "      <th>teamsData</th>\n",
       "      <th>seasonId</th>\n",
       "      <th>dateutc</th>\n",
       "      <th>winner</th>\n",
       "      <th>venue</th>\n",
       "      <th>wyId</th>\n",
       "      <th>label</th>\n",
       "      <th>...</th>\n",
       "      <th>duration</th>\n",
       "      <th>competitionId</th>\n",
       "      <th>groupName</th>\n",
       "      <th>home_team_id</th>\n",
       "      <th>away_team_id</th>\n",
       "      <th>home_team_score</th>\n",
       "      <th>away_team_score</th>\n",
       "      <th>home_team</th>\n",
       "      <th>away_team</th>\n",
       "      <th>competition</th>\n",
       "    </tr>\n",
       "  </thead>\n",
       "  <tbody>\n",
       "    <tr>\n",
       "      <th>0</th>\n",
       "      <td>Played</td>\n",
       "      <td>4405654</td>\n",
       "      <td>38</td>\n",
       "      <td>{'1646': {'scoreET': 0, 'coachId': 8880, 'side...</td>\n",
       "      <td>181150</td>\n",
       "      <td>2018-05-13 14:00:00</td>\n",
       "      <td>1659</td>\n",
       "      <td>Turf Moor</td>\n",
       "      <td>2500089</td>\n",
       "      <td>Burnley - AFC Bournemouth, 1 - 2</td>\n",
       "      <td>...</td>\n",
       "      <td>Regular</td>\n",
       "      <td>364</td>\n",
       "      <td>NaN</td>\n",
       "      <td>1646</td>\n",
       "      <td>1659</td>\n",
       "      <td>1</td>\n",
       "      <td>2</td>\n",
       "      <td>Burnley</td>\n",
       "      <td>AFC Bournemouth</td>\n",
       "      <td>English first division</td>\n",
       "    </tr>\n",
       "    <tr>\n",
       "      <th>1</th>\n",
       "      <td>Played</td>\n",
       "      <td>4405654</td>\n",
       "      <td>38</td>\n",
       "      <td>{'1628': {'scoreET': 0, 'coachId': 8357, 'side...</td>\n",
       "      <td>181150</td>\n",
       "      <td>2018-05-13 14:00:00</td>\n",
       "      <td>1628</td>\n",
       "      <td>Selhurst Park</td>\n",
       "      <td>2500090</td>\n",
       "      <td>Crystal Palace - West Bromwich Albion, 2 - 0</td>\n",
       "      <td>...</td>\n",
       "      <td>Regular</td>\n",
       "      <td>364</td>\n",
       "      <td>NaN</td>\n",
       "      <td>1628</td>\n",
       "      <td>1627</td>\n",
       "      <td>2</td>\n",
       "      <td>0</td>\n",
       "      <td>Crystal Palace</td>\n",
       "      <td>West Bromwich Albion</td>\n",
       "      <td>English first division</td>\n",
       "    </tr>\n",
       "  </tbody>\n",
       "</table>\n",
       "<p>2 rows × 22 columns</p>\n",
       "</div>"
      ],
      "text/plain": [
       "   status  roundId  gameweek  \\\n",
       "0  Played  4405654        38   \n",
       "1  Played  4405654        38   \n",
       "\n",
       "                                           teamsData  seasonId  \\\n",
       "0  {'1646': {'scoreET': 0, 'coachId': 8880, 'side...    181150   \n",
       "1  {'1628': {'scoreET': 0, 'coachId': 8357, 'side...    181150   \n",
       "\n",
       "               dateutc  winner          venue     wyId  \\\n",
       "0  2018-05-13 14:00:00    1659      Turf Moor  2500089   \n",
       "1  2018-05-13 14:00:00    1628  Selhurst Park  2500090   \n",
       "\n",
       "                                          label  ... duration competitionId  \\\n",
       "0              Burnley - AFC Bournemouth, 1 - 2  ...  Regular           364   \n",
       "1  Crystal Palace - West Bromwich Albion, 2 - 0  ...  Regular           364   \n",
       "\n",
       "  groupName  home_team_id away_team_id  home_team_score  away_team_score  \\\n",
       "0       NaN          1646         1659                1                2   \n",
       "1       NaN          1628         1627                2                0   \n",
       "\n",
       "        home_team             away_team             competition  \n",
       "0         Burnley       AFC Bournemouth  English first division  \n",
       "1  Crystal Palace  West Bromwich Albion  English first division  \n",
       "\n",
       "[2 rows x 22 columns]"
      ]
     },
     "execution_count": 11,
     "metadata": {},
     "output_type": "execute_result"
    }
   ],
   "source": [
    "matches_df.head(2)"
   ]
  },
  {
   "cell_type": "markdown",
   "metadata": {},
   "source": [
    "## Output \n",
    "\n",
    "We now have all matches with the team and score"
   ]
  },
  {
   "cell_type": "markdown",
   "metadata": {},
   "source": [
    "<a name='2'></a>\n",
    "## Section 2 - Event deep dive and understanding the data\n",
    "\n",
    "This section looks at what the event data means.\n",
    "\n",
    "First let's look at the first 10 lines. There is an event, a sub event, player id, location of the event (and end location, in some cases), match_ID\n",
    "\n",
    "We can add meta data from the matches table so we have competition ID and name(we will worry about other columns later)"
   ]
  },
  {
   "cell_type": "code",
   "execution_count": 12,
   "metadata": {},
   "outputs": [],
   "source": [
    "#gets a dict of match ID versus comp name / ID\n",
    "comp_match_id_pairs = (matches_df[['wyId', 'competitionId']].set_index('wyId').T.to_dict(orient='index'))\n",
    "comp_match_name_pairs = (matches_df[['wyId', 'competition']].set_index('wyId').T.to_dict(orient='index'))"
   ]
  },
  {
   "cell_type": "code",
   "execution_count": 13,
   "metadata": {},
   "outputs": [],
   "source": [
    "#just looking at top 10 lines - note there is always just one player ID. we should look at how 'touch works.\n",
    "df['competition_ID'] = df['matchId'].apply(lambda x: comp_match_id_pairs['competitionId'][x])\n",
    "df['competition_name'] = df['matchId'].apply(lambda x: comp_match_name_pairs['competition'][x])"
   ]
  },
  {
   "cell_type": "code",
   "execution_count": 14,
   "metadata": {},
   "outputs": [
    {
     "data": {
      "text/html": [
       "<div>\n",
       "<style scoped>\n",
       "    .dataframe tbody tr th:only-of-type {\n",
       "        vertical-align: middle;\n",
       "    }\n",
       "\n",
       "    .dataframe tbody tr th {\n",
       "        vertical-align: top;\n",
       "    }\n",
       "\n",
       "    .dataframe thead th {\n",
       "        text-align: right;\n",
       "    }\n",
       "</style>\n",
       "<table border=\"1\" class=\"dataframe\">\n",
       "  <thead>\n",
       "    <tr style=\"text-align: right;\">\n",
       "      <th></th>\n",
       "      <th>eventId</th>\n",
       "      <th>subEventName</th>\n",
       "      <th>tags</th>\n",
       "      <th>playerId</th>\n",
       "      <th>positions</th>\n",
       "      <th>matchId</th>\n",
       "      <th>eventName</th>\n",
       "      <th>teamId</th>\n",
       "      <th>matchPeriod</th>\n",
       "      <th>eventSec</th>\n",
       "      <th>subEventId</th>\n",
       "      <th>id</th>\n",
       "      <th>competition_ID</th>\n",
       "      <th>competition_name</th>\n",
       "    </tr>\n",
       "  </thead>\n",
       "  <tbody>\n",
       "    <tr>\n",
       "      <th>0</th>\n",
       "      <td>8</td>\n",
       "      <td>Simple pass</td>\n",
       "      <td>[{'id': 1801}]</td>\n",
       "      <td>25413</td>\n",
       "      <td>[{'y': 49, 'x': 49}, {'y': 78, 'x': 31}]</td>\n",
       "      <td>2499719</td>\n",
       "      <td>Pass</td>\n",
       "      <td>1609</td>\n",
       "      <td>1H</td>\n",
       "      <td>2.758649</td>\n",
       "      <td>85</td>\n",
       "      <td>177959171</td>\n",
       "      <td>364</td>\n",
       "      <td>English first division</td>\n",
       "    </tr>\n",
       "  </tbody>\n",
       "</table>\n",
       "</div>"
      ],
      "text/plain": [
       "   eventId subEventName            tags  playerId  \\\n",
       "0        8  Simple pass  [{'id': 1801}]     25413   \n",
       "\n",
       "                                  positions  matchId eventName  teamId  \\\n",
       "0  [{'y': 49, 'x': 49}, {'y': 78, 'x': 31}]  2499719      Pass    1609   \n",
       "\n",
       "  matchPeriod  eventSec subEventId         id  competition_ID  \\\n",
       "0          1H  2.758649         85  177959171             364   \n",
       "\n",
       "         competition_name  \n",
       "0  English first division  "
      ]
     },
     "execution_count": 14,
     "metadata": {},
     "output_type": "execute_result"
    }
   ],
   "source": [
    "df.head(1)"
   ]
  },
  {
   "cell_type": "markdown",
   "metadata": {},
   "source": [
    "## What high level and sub level events do we have"
   ]
  },
  {
   "cell_type": "code",
   "execution_count": 15,
   "metadata": {},
   "outputs": [
    {
     "data": {
      "text/html": [
       "<div>\n",
       "<style scoped>\n",
       "    .dataframe tbody tr th:only-of-type {\n",
       "        vertical-align: middle;\n",
       "    }\n",
       "\n",
       "    .dataframe tbody tr th {\n",
       "        vertical-align: top;\n",
       "    }\n",
       "\n",
       "    .dataframe thead th {\n",
       "        text-align: right;\n",
       "    }\n",
       "</style>\n",
       "<table border=\"1\" class=\"dataframe\">\n",
       "  <thead>\n",
       "    <tr style=\"text-align: right;\">\n",
       "      <th></th>\n",
       "      <th>Pass</th>\n",
       "      <th>Duel</th>\n",
       "      <th>Others on the ball</th>\n",
       "      <th>Free Kick</th>\n",
       "      <th>Interruption</th>\n",
       "      <th>Foul</th>\n",
       "      <th>Shot</th>\n",
       "      <th>Save attempt</th>\n",
       "      <th>Offside</th>\n",
       "      <th>Goalkeeper leaving line</th>\n",
       "    </tr>\n",
       "  </thead>\n",
       "  <tbody>\n",
       "    <tr>\n",
       "      <th>eventName</th>\n",
       "      <td>0.51</td>\n",
       "      <td>0.27</td>\n",
       "      <td>0.08</td>\n",
       "      <td>0.06</td>\n",
       "      <td>0.04</td>\n",
       "      <td>0.02</td>\n",
       "      <td>0.01</td>\n",
       "      <td>0.01</td>\n",
       "      <td>0.0</td>\n",
       "      <td>0.0</td>\n",
       "    </tr>\n",
       "  </tbody>\n",
       "</table>\n",
       "</div>"
      ],
      "text/plain": [
       "           Pass  Duel  Others on the ball  Free Kick  Interruption  Foul  \\\n",
       "eventName  0.51  0.27                0.08       0.06          0.04  0.02   \n",
       "\n",
       "           Shot  Save attempt  Offside  Goalkeeper leaving line  \n",
       "eventName  0.01          0.01      0.0                      0.0  "
      ]
     },
     "execution_count": 15,
     "metadata": {},
     "output_type": "execute_result"
    }
   ],
   "source": [
    "#Let's look at all the high level events\n",
    "pd.DataFrame(round(df['eventName'].value_counts(normalize=True),2)).T"
   ]
  },
  {
   "cell_type": "code",
   "execution_count": 16,
   "metadata": {},
   "outputs": [
    {
     "data": {
      "text/plain": [
       "Simple pass                0.395536\n",
       "Ground attacking duel      0.086117\n",
       "Ground defending duel      0.085721\n",
       "Touch                      0.053682\n",
       "Air duel                   0.051797\n",
       "Ground loose ball duel     0.046745\n",
       "High pass                  0.040050\n",
       "Ball out of the field      0.039732\n",
       "Head pass                  0.029807\n",
       "Throw in                   0.026168\n",
       "Cross                      0.019172\n",
       "Clearance                  0.017476\n",
       "Foul                       0.014500\n",
       "Launch                     0.014068\n",
       "Free Kick                  0.014015\n",
       "Shot                       0.013249\n",
       "Goal kick                  0.009780\n",
       "Smart pass                 0.009320\n",
       "Acceleration               0.007962\n",
       "Corner                     0.005941\n",
       "Hand pass                  0.004307\n",
       "Reflexes                   0.003323\n",
       "Free kick cross            0.002660\n",
       "                           0.002517\n",
       "Save attempt               0.002096\n",
       "Goalkeeper leaving line    0.001896\n",
       "Free kick shot             0.000679\n",
       "Hand foul                  0.000639\n",
       "Whistle                    0.000282\n",
       "Penalty                    0.000202\n",
       "Protest                    0.000184\n",
       "Out of game foul           0.000153\n",
       "Late card foul             0.000097\n",
       "Time lost foul             0.000068\n",
       "Simulation                 0.000034\n",
       "Violent Foul               0.000026\n",
       "Name: subEventName, dtype: float64"
      ]
     },
     "execution_count": 16,
     "metadata": {},
     "output_type": "execute_result"
    }
   ],
   "source": [
    "#Lets have a look at all the events in subEvent.\n",
    "df['subEventName'].value_counts(normalize=True).T"
   ]
  },
  {
   "cell_type": "markdown",
   "metadata": {},
   "source": [
    "## We can also see from the main table that there are a bunch of tags.\n",
    "\n",
    "To understand those tag, we need to add in the tag dictionary: https://github.com/Friends-of-Tracking-Data-FoTD/mapping-match-events-in-Python/tree/master/data"
   ]
  },
  {
   "cell_type": "code",
   "execution_count": 17,
   "metadata": {},
   "outputs": [],
   "source": [
    "tags_file = '/Users/jacoblourie/Downloads/tags2name.csv'\n",
    "tags_df = pd.read_csv(tags_file)"
   ]
  },
  {
   "cell_type": "code",
   "execution_count": 18,
   "metadata": {},
   "outputs": [
    {
     "data": {
      "text/html": [
       "<div>\n",
       "<style scoped>\n",
       "    .dataframe tbody tr th:only-of-type {\n",
       "        vertical-align: middle;\n",
       "    }\n",
       "\n",
       "    .dataframe tbody tr th {\n",
       "        vertical-align: top;\n",
       "    }\n",
       "\n",
       "    .dataframe thead th {\n",
       "        text-align: right;\n",
       "    }\n",
       "</style>\n",
       "<table border=\"1\" class=\"dataframe\">\n",
       "  <thead>\n",
       "    <tr style=\"text-align: right;\">\n",
       "      <th></th>\n",
       "      <th>Tag</th>\n",
       "      <th>Label</th>\n",
       "      <th>Description</th>\n",
       "    </tr>\n",
       "  </thead>\n",
       "  <tbody>\n",
       "    <tr>\n",
       "      <th>0</th>\n",
       "      <td>101</td>\n",
       "      <td>Goal</td>\n",
       "      <td>Goal</td>\n",
       "    </tr>\n",
       "    <tr>\n",
       "      <th>1</th>\n",
       "      <td>102</td>\n",
       "      <td>own_goal</td>\n",
       "      <td>Own goal</td>\n",
       "    </tr>\n",
       "    <tr>\n",
       "      <th>2</th>\n",
       "      <td>301</td>\n",
       "      <td>assist</td>\n",
       "      <td>Assist</td>\n",
       "    </tr>\n",
       "    <tr>\n",
       "      <th>3</th>\n",
       "      <td>302</td>\n",
       "      <td>keyPass</td>\n",
       "      <td>Key pass</td>\n",
       "    </tr>\n",
       "    <tr>\n",
       "      <th>4</th>\n",
       "      <td>1901</td>\n",
       "      <td>counter_attack</td>\n",
       "      <td>Counter attack</td>\n",
       "    </tr>\n",
       "    <tr>\n",
       "      <th>5</th>\n",
       "      <td>401</td>\n",
       "      <td>Left</td>\n",
       "      <td>Left foot</td>\n",
       "    </tr>\n",
       "    <tr>\n",
       "      <th>6</th>\n",
       "      <td>402</td>\n",
       "      <td>Right</td>\n",
       "      <td>Right foot</td>\n",
       "    </tr>\n",
       "    <tr>\n",
       "      <th>7</th>\n",
       "      <td>403</td>\n",
       "      <td>head/body</td>\n",
       "      <td>Head/body</td>\n",
       "    </tr>\n",
       "    <tr>\n",
       "      <th>8</th>\n",
       "      <td>1101</td>\n",
       "      <td>direct</td>\n",
       "      <td>Direct</td>\n",
       "    </tr>\n",
       "    <tr>\n",
       "      <th>9</th>\n",
       "      <td>1102</td>\n",
       "      <td>indirect</td>\n",
       "      <td>Indirect</td>\n",
       "    </tr>\n",
       "    <tr>\n",
       "      <th>10</th>\n",
       "      <td>2001</td>\n",
       "      <td>dangerous_ball_lost</td>\n",
       "      <td>Dangerous ball lost</td>\n",
       "    </tr>\n",
       "    <tr>\n",
       "      <th>11</th>\n",
       "      <td>2101</td>\n",
       "      <td>blocked</td>\n",
       "      <td>Blocked</td>\n",
       "    </tr>\n",
       "    <tr>\n",
       "      <th>12</th>\n",
       "      <td>801</td>\n",
       "      <td>high</td>\n",
       "      <td>High</td>\n",
       "    </tr>\n",
       "    <tr>\n",
       "      <th>13</th>\n",
       "      <td>802</td>\n",
       "      <td>low</td>\n",
       "      <td>Low</td>\n",
       "    </tr>\n",
       "    <tr>\n",
       "      <th>14</th>\n",
       "      <td>1401</td>\n",
       "      <td>interception</td>\n",
       "      <td>Interception</td>\n",
       "    </tr>\n",
       "    <tr>\n",
       "      <th>15</th>\n",
       "      <td>1501</td>\n",
       "      <td>clearance</td>\n",
       "      <td>Clearance</td>\n",
       "    </tr>\n",
       "    <tr>\n",
       "      <th>16</th>\n",
       "      <td>201</td>\n",
       "      <td>opportunity</td>\n",
       "      <td>Opportunity</td>\n",
       "    </tr>\n",
       "    <tr>\n",
       "      <th>17</th>\n",
       "      <td>1301</td>\n",
       "      <td>Feint</td>\n",
       "      <td>Feint</td>\n",
       "    </tr>\n",
       "    <tr>\n",
       "      <th>18</th>\n",
       "      <td>1302</td>\n",
       "      <td>missed ball</td>\n",
       "      <td>Missed ball</td>\n",
       "    </tr>\n",
       "    <tr>\n",
       "      <th>19</th>\n",
       "      <td>501</td>\n",
       "      <td>free_space_r</td>\n",
       "      <td>Free space right</td>\n",
       "    </tr>\n",
       "    <tr>\n",
       "      <th>20</th>\n",
       "      <td>502</td>\n",
       "      <td>free_space_l</td>\n",
       "      <td>Free space left</td>\n",
       "    </tr>\n",
       "    <tr>\n",
       "      <th>21</th>\n",
       "      <td>503</td>\n",
       "      <td>take_on_l</td>\n",
       "      <td>Take on left</td>\n",
       "    </tr>\n",
       "    <tr>\n",
       "      <th>22</th>\n",
       "      <td>504</td>\n",
       "      <td>take_on_r</td>\n",
       "      <td>Take on right</td>\n",
       "    </tr>\n",
       "    <tr>\n",
       "      <th>23</th>\n",
       "      <td>1601</td>\n",
       "      <td>sliding_tackle</td>\n",
       "      <td>Sliding tackle</td>\n",
       "    </tr>\n",
       "    <tr>\n",
       "      <th>24</th>\n",
       "      <td>601</td>\n",
       "      <td>anticipated</td>\n",
       "      <td>Anticipated</td>\n",
       "    </tr>\n",
       "    <tr>\n",
       "      <th>25</th>\n",
       "      <td>602</td>\n",
       "      <td>anticipation</td>\n",
       "      <td>Anticipation</td>\n",
       "    </tr>\n",
       "    <tr>\n",
       "      <th>26</th>\n",
       "      <td>1701</td>\n",
       "      <td>red_card</td>\n",
       "      <td>Red card</td>\n",
       "    </tr>\n",
       "    <tr>\n",
       "      <th>27</th>\n",
       "      <td>1702</td>\n",
       "      <td>yellow_card</td>\n",
       "      <td>Yellow card</td>\n",
       "    </tr>\n",
       "    <tr>\n",
       "      <th>28</th>\n",
       "      <td>1703</td>\n",
       "      <td>second_yellow_card</td>\n",
       "      <td>Second yellow card</td>\n",
       "    </tr>\n",
       "    <tr>\n",
       "      <th>29</th>\n",
       "      <td>1201</td>\n",
       "      <td>gb</td>\n",
       "      <td>Position: Goal low center</td>\n",
       "    </tr>\n",
       "    <tr>\n",
       "      <th>30</th>\n",
       "      <td>1202</td>\n",
       "      <td>gbr</td>\n",
       "      <td>Position: Goal low right</td>\n",
       "    </tr>\n",
       "    <tr>\n",
       "      <th>31</th>\n",
       "      <td>1203</td>\n",
       "      <td>gc</td>\n",
       "      <td>Position: Goal center</td>\n",
       "    </tr>\n",
       "    <tr>\n",
       "      <th>32</th>\n",
       "      <td>1204</td>\n",
       "      <td>gl</td>\n",
       "      <td>Position: Goal center left</td>\n",
       "    </tr>\n",
       "    <tr>\n",
       "      <th>33</th>\n",
       "      <td>1205</td>\n",
       "      <td>glb</td>\n",
       "      <td>Position: Goal low left</td>\n",
       "    </tr>\n",
       "    <tr>\n",
       "      <th>34</th>\n",
       "      <td>1206</td>\n",
       "      <td>gr</td>\n",
       "      <td>Position: Goal center right</td>\n",
       "    </tr>\n",
       "    <tr>\n",
       "      <th>35</th>\n",
       "      <td>1207</td>\n",
       "      <td>gt</td>\n",
       "      <td>Position: Goal high center</td>\n",
       "    </tr>\n",
       "    <tr>\n",
       "      <th>36</th>\n",
       "      <td>1208</td>\n",
       "      <td>gtl</td>\n",
       "      <td>Position: Goal high left</td>\n",
       "    </tr>\n",
       "    <tr>\n",
       "      <th>37</th>\n",
       "      <td>1209</td>\n",
       "      <td>gtr</td>\n",
       "      <td>Position: Goal high right</td>\n",
       "    </tr>\n",
       "    <tr>\n",
       "      <th>38</th>\n",
       "      <td>1210</td>\n",
       "      <td>obr</td>\n",
       "      <td>Position: Out low right</td>\n",
       "    </tr>\n",
       "    <tr>\n",
       "      <th>39</th>\n",
       "      <td>1211</td>\n",
       "      <td>ol</td>\n",
       "      <td>Position: Out center left</td>\n",
       "    </tr>\n",
       "    <tr>\n",
       "      <th>40</th>\n",
       "      <td>1212</td>\n",
       "      <td>olb</td>\n",
       "      <td>Position: Out low left</td>\n",
       "    </tr>\n",
       "    <tr>\n",
       "      <th>41</th>\n",
       "      <td>1213</td>\n",
       "      <td>or</td>\n",
       "      <td>Position: Out center right</td>\n",
       "    </tr>\n",
       "    <tr>\n",
       "      <th>42</th>\n",
       "      <td>1214</td>\n",
       "      <td>ot</td>\n",
       "      <td>Position: Out high center</td>\n",
       "    </tr>\n",
       "    <tr>\n",
       "      <th>43</th>\n",
       "      <td>1215</td>\n",
       "      <td>otl</td>\n",
       "      <td>Position: Out high left</td>\n",
       "    </tr>\n",
       "    <tr>\n",
       "      <th>44</th>\n",
       "      <td>1216</td>\n",
       "      <td>otr</td>\n",
       "      <td>Position: Out high right</td>\n",
       "    </tr>\n",
       "    <tr>\n",
       "      <th>45</th>\n",
       "      <td>1217</td>\n",
       "      <td>pbr</td>\n",
       "      <td>Position: Post low right</td>\n",
       "    </tr>\n",
       "    <tr>\n",
       "      <th>46</th>\n",
       "      <td>1218</td>\n",
       "      <td>pl</td>\n",
       "      <td>Position: Post center left</td>\n",
       "    </tr>\n",
       "    <tr>\n",
       "      <th>47</th>\n",
       "      <td>1219</td>\n",
       "      <td>plb</td>\n",
       "      <td>Position: Post low left</td>\n",
       "    </tr>\n",
       "    <tr>\n",
       "      <th>48</th>\n",
       "      <td>1220</td>\n",
       "      <td>pr</td>\n",
       "      <td>Position: Post center right</td>\n",
       "    </tr>\n",
       "    <tr>\n",
       "      <th>49</th>\n",
       "      <td>1221</td>\n",
       "      <td>pt</td>\n",
       "      <td>Position: Post high center</td>\n",
       "    </tr>\n",
       "    <tr>\n",
       "      <th>50</th>\n",
       "      <td>1222</td>\n",
       "      <td>ptl</td>\n",
       "      <td>Position: Post high left</td>\n",
       "    </tr>\n",
       "    <tr>\n",
       "      <th>51</th>\n",
       "      <td>1223</td>\n",
       "      <td>ptr</td>\n",
       "      <td>Position: Post high right</td>\n",
       "    </tr>\n",
       "    <tr>\n",
       "      <th>52</th>\n",
       "      <td>901</td>\n",
       "      <td>through</td>\n",
       "      <td>Through</td>\n",
       "    </tr>\n",
       "    <tr>\n",
       "      <th>53</th>\n",
       "      <td>1001</td>\n",
       "      <td>fairplay</td>\n",
       "      <td>Fairplay</td>\n",
       "    </tr>\n",
       "    <tr>\n",
       "      <th>54</th>\n",
       "      <td>701</td>\n",
       "      <td>lost</td>\n",
       "      <td>Lost</td>\n",
       "    </tr>\n",
       "    <tr>\n",
       "      <th>55</th>\n",
       "      <td>702</td>\n",
       "      <td>neutral</td>\n",
       "      <td>Neutral</td>\n",
       "    </tr>\n",
       "    <tr>\n",
       "      <th>56</th>\n",
       "      <td>703</td>\n",
       "      <td>won</td>\n",
       "      <td>Won</td>\n",
       "    </tr>\n",
       "    <tr>\n",
       "      <th>57</th>\n",
       "      <td>1801</td>\n",
       "      <td>accurate</td>\n",
       "      <td>Accurate</td>\n",
       "    </tr>\n",
       "    <tr>\n",
       "      <th>58</th>\n",
       "      <td>1802</td>\n",
       "      <td>not accurate</td>\n",
       "      <td>Not accurate</td>\n",
       "    </tr>\n",
       "  </tbody>\n",
       "</table>\n",
       "</div>"
      ],
      "text/plain": [
       "     Tag                Label                  Description\n",
       "0    101                 Goal                         Goal\n",
       "1    102             own_goal                     Own goal\n",
       "2    301               assist                       Assist\n",
       "3    302              keyPass                     Key pass\n",
       "4   1901       counter_attack               Counter attack\n",
       "5    401                 Left                    Left foot\n",
       "6    402                Right                   Right foot\n",
       "7    403            head/body                    Head/body\n",
       "8   1101               direct                       Direct\n",
       "9   1102             indirect                     Indirect\n",
       "10  2001  dangerous_ball_lost          Dangerous ball lost\n",
       "11  2101              blocked                      Blocked\n",
       "12   801                 high                         High\n",
       "13   802                  low                          Low\n",
       "14  1401         interception                 Interception\n",
       "15  1501            clearance                    Clearance\n",
       "16   201          opportunity                  Opportunity\n",
       "17  1301                Feint                        Feint\n",
       "18  1302          missed ball                  Missed ball\n",
       "19   501         free_space_r             Free space right\n",
       "20   502         free_space_l              Free space left\n",
       "21   503            take_on_l                 Take on left\n",
       "22   504            take_on_r                Take on right\n",
       "23  1601       sliding_tackle               Sliding tackle\n",
       "24   601          anticipated                  Anticipated\n",
       "25   602         anticipation                 Anticipation\n",
       "26  1701             red_card                     Red card\n",
       "27  1702          yellow_card                  Yellow card\n",
       "28  1703   second_yellow_card           Second yellow card\n",
       "29  1201                   gb    Position: Goal low center\n",
       "30  1202                  gbr     Position: Goal low right\n",
       "31  1203                   gc        Position: Goal center\n",
       "32  1204                   gl   Position: Goal center left\n",
       "33  1205                  glb      Position: Goal low left\n",
       "34  1206                   gr  Position: Goal center right\n",
       "35  1207                   gt   Position: Goal high center\n",
       "36  1208                  gtl     Position: Goal high left\n",
       "37  1209                  gtr    Position: Goal high right\n",
       "38  1210                  obr      Position: Out low right\n",
       "39  1211                   ol    Position: Out center left\n",
       "40  1212                  olb       Position: Out low left\n",
       "41  1213                   or   Position: Out center right\n",
       "42  1214                   ot    Position: Out high center\n",
       "43  1215                  otl      Position: Out high left\n",
       "44  1216                  otr     Position: Out high right\n",
       "45  1217                  pbr     Position: Post low right\n",
       "46  1218                   pl   Position: Post center left\n",
       "47  1219                  plb      Position: Post low left\n",
       "48  1220                   pr  Position: Post center right\n",
       "49  1221                   pt   Position: Post high center\n",
       "50  1222                  ptl     Position: Post high left\n",
       "51  1223                  ptr    Position: Post high right\n",
       "52   901              through                      Through\n",
       "53  1001             fairplay                     Fairplay\n",
       "54   701                 lost                         Lost\n",
       "55   702              neutral                      Neutral\n",
       "56   703                  won                          Won\n",
       "57  1801             accurate                     Accurate\n",
       "58  1802         not accurate                 Not accurate"
      ]
     },
     "execution_count": 18,
     "metadata": {},
     "output_type": "execute_result"
    }
   ],
   "source": [
    "tags_df"
   ]
  },
  {
   "cell_type": "markdown",
   "metadata": {},
   "source": [
    "## We care about tags that may be relevant in predicting whether a shot will go in or not\n",
    "\n",
    "So all shots are \"event names\" : 'shot'\n",
    "\n",
    "we have free kick and penalty shot as subevents\n",
    "\n",
    "Some relevant tags:\n",
    "\n",
    "101: goal\n",
    "\n",
    "401: left foot, 402: right foot, 403: head, \n",
    "\n",
    "1901: counter attack, 201: opportunity\n",
    "\n",
    "## Unpacking the coordinates - what do the x and y coordinates actually refer to. Are they expressed in terms of the home team, or the player with the ball, and is x or y length wise on the pitch?\n",
    "\n",
    "let's draw them on the pitch to view it properly"
   ]
  },
  {
   "cell_type": "code",
   "execution_count": 19,
   "metadata": {},
   "outputs": [],
   "source": [
    "#extracts just x and y from the first event in the event location data\n",
    "df['event_location_y'] = df['positions'].apply(lambda x: x[0]['y'])\n",
    "df['event_location_x'] = df['positions'].apply(lambda x: x[0]['x'])"
   ]
  },
  {
   "cell_type": "code",
   "execution_count": 172,
   "metadata": {},
   "outputs": [],
   "source": [
    "def draw_pitch(ax):\n",
    "\n",
    "    # size of the pitch is 100, 100\n",
    "    #Create figure\n",
    "\n",
    "    #Pitch Outline & Centre Line\n",
    "    plt.plot([0,0],[0,100], color=\"black\")\n",
    "    plt.plot([0,100],[100,100], color=\"black\")\n",
    "    plt.plot([100,100],[100,0], color=\"black\")\n",
    "    plt.plot([100,0],[0,0], color=\"black\")\n",
    "    plt.plot([50,50],[0,100], color=\"black\")\n",
    "\n",
    "    #Left Penalty Area\n",
    "    plt.plot([14.6,14.6],[67.8,32.2],color=\"black\")\n",
    "    plt.plot([0,14.6],[67.8,67.8],color=\"black\")\n",
    "    plt.plot([0,14.6],[32.2,32.2],color=\"black\")\n",
    "\n",
    "    #Right Penalty Area\n",
    "    plt.plot([85.4,85.4],[67.8,32.2],color=\"black\")\n",
    "    plt.plot([100,85.4],[67.8,67.8],color=\"black\")\n",
    "    plt.plot([100, 85.4],[32.2,32.2],color=\"black\")\n",
    "\n",
    "    #Left 6-yard Box\n",
    "    plt.plot([0,4.9],[58,58],color=\"black\")\n",
    "    plt.plot([4.9,4.9],[58,42],color=\"black\")\n",
    "    plt.plot([0,4.9],[42,42],color=\"black\")\n",
    "\n",
    "    #Right 6-yard Box\n",
    "    plt.plot([100,95.1],[58,58],color=\"black\")\n",
    "    plt.plot([95.1,95.1],[58,42],color=\"black\")\n",
    "    plt.plot([100,95.1],[42,42],color=\"black\")\n",
    "\n",
    "    #Prepare Circles\n",
    "    centreCircle = plt.Circle((50,50),8.1,color=\"black\",fill=False)\n",
    "    centreSpot = plt.Circle((50,50),0.71,color=\"black\")\n",
    "    leftPenSpot = plt.Circle((9.7,50),0.71,color=\"black\")\n",
    "    rightPenSpot = plt.Circle((90.3,50),0.71,color=\"black\")\n",
    "\n",
    "    #Draw Circles\n",
    "    ax.add_patch(centreCircle)\n",
    "    ax.add_patch(centreSpot)\n",
    "    ax.add_patch(leftPenSpot)\n",
    "    ax.add_patch(rightPenSpot)\n",
    "\n",
    "    #Prepare Arcs\n",
    "    # arguments for arc\n",
    "    # x, y coordinate of centerpoint of arc\n",
    "    # width, height as arc might not be circle, but oval\n",
    "    # angle: degree of rotation of the shape, anti-clockwise\n",
    "    # theta1, theta2, start and end location of arc in degree\n",
    "    leftArc = Arc((9.7,50),height=16.2,width=16.2,angle=0,theta1=310,theta2=50,color=\"black\")\n",
    "    rightArc = Arc((90.3,50),height=16.2,width=16.2,angle=0,theta1=130,theta2=230,color=\"black\")\n",
    "\n",
    "    #Draw Arcs\n",
    "    ax.add_patch(leftArc)\n",
    "    ax.add_patch(rightArc)\n",
    "    \n",
    "    ax.set_facecolor('green')"
   ]
  },
  {
   "cell_type": "code",
   "execution_count": 186,
   "metadata": {},
   "outputs": [
    {
     "data": {
      "image/png": "[encoded data removed]",
      "text/plain": [
       "<Figure size 504x504 with 1 Axes>"
      ]
     },
     "metadata": {
      "needs_background": "light"
     },
     "output_type": "display_data"
    }
   ],
   "source": [
    "fig=plt.figure()\n",
    "fig.set_size_inches(7, 7)\n",
    "ax=fig.add_subplot(1,1,1)\n",
    "draw_pitch(ax)\n",
    "plt.scatter(x=df[df['eventName']=='Shot']['event_location_x'],y=df[df['eventName']=='Shot']['event_location_y'],alpha=0.1,cmap='White',edgecolors='white')\n",
    "plt.show()"
   ]
  },
  {
   "cell_type": "markdown",
   "metadata": {},
   "source": [
    "## Key point of data - X is distance from the goal you're attacking.\n",
    "\n",
    "Y is distance from left touchline\n",
    "\n",
    "So let's create dummy variables for all our 'of interest' things"
   ]
  },
  {
   "cell_type": "markdown",
   "metadata": {},
   "source": [
    "<a name='3'></a>\n",
    "## Section 3 - creating dummy variables for variable of interest."
   ]
  },
  {
   "cell_type": "code",
   "execution_count": 22,
   "metadata": {},
   "outputs": [],
   "source": [
    "#is penalty?\n",
    "df['is_penalty'] = (df['subEventName'] == 'Penalty').astype('int')\n",
    "#is freekick?\n",
    "df['is_freekick'] = (df['subEventName'] == 'Free kick shot').astype('int')\n",
    "#is goal?\n",
    "def extract_tag(tags, tag):\n",
    "    if tag in [x['id'] for x in tags]:\n",
    "        return 1\n",
    "    else:\n",
    "        return 0\n",
    "df['goal'] = df['tags'].apply(lambda x: extract_tag(x,101))\n",
    "#additional tags\n",
    "df['left_foot'] = df['tags'].apply(lambda x: extract_tag(x,401))\n",
    "df['right_foot'] = df['tags'].apply(lambda x: extract_tag(x,402))\n",
    "df['head'] = df['tags'].apply(lambda x: extract_tag(x,403))\n",
    "df['counter_attack'] = df['tags'].apply(lambda x: extract_tag(x,1901))\n",
    "df['opportunity'] = df['tags'].apply(lambda x: extract_tag(x,201))\n"
   ]
  },
  {
   "cell_type": "markdown",
   "metadata": {},
   "source": [
    "And now let's create a goal distance and angle based on x y"
   ]
  },
  {
   "cell_type": "code",
   "execution_count": 23,
   "metadata": {},
   "outputs": [],
   "source": [
    "import math\n",
    "from math import acos, cos, asin, sin, atan"
   ]
  },
  {
   "cell_type": "code",
   "execution_count": 24,
   "metadata": {},
   "outputs": [],
   "source": [
    "#use pythagoras\n",
    "df['distance_to_goal'] = np.sqrt((100-df['event_location_x'])**2+(50-df['event_location_y'])**2)\n",
    "#create 'opposite over adjacent'\n",
    "df['angle_to_goal_calc'] = (abs(50-df['event_location_y'])/(100-df['event_location_x']))\n",
    "#take inverse tan of that and convert to degrees\n",
    "df['angle_to_goal'] = df['angle_to_goal_calc'].apply(lambda x: (180/np.pi)*atan(x))"
   ]
  },
  {
   "cell_type": "markdown",
   "metadata": {},
   "source": [
    "## Important\n",
    "\n",
    "non-shot actions, such as 'reflex save' are also labelled as 'penalty' for example. So we need to make sure to filter on 'subevent' == 'shot, freekick shot or penalty' at all times. We can't use Event == 'shot' because this doesn't include free kick or penalty shots\n"
   ]
  },
  {
   "cell_type": "code",
   "execution_count": 151,
   "metadata": {},
   "outputs": [],
   "source": [
    "#Saving files up till now for ease\n",
    "with open('saved_dfs/matches_with_meta','w') as f:\n",
    "    matches_df.to_csv(f)\n",
    "with open('saved_dfs/event_data_with_meta_and_dummies','w') as f:\n",
    "    df.to_csv(f)"
   ]
  },
  {
   "cell_type": "code",
   "execution_count": 25,
   "metadata": {},
   "outputs": [],
   "source": [
    "ev_filter = ['Shot','Free kick shot','Penalty']"
   ]
  },
  {
   "cell_type": "code",
   "execution_count": 26,
   "metadata": {},
   "outputs": [
    {
     "data": {
      "text/plain": [
       "0    40839\n",
       "1     5106\n",
       "Name: goal, dtype: int64"
      ]
     },
     "execution_count": 26,
     "metadata": {},
     "output_type": "execute_result"
    }
   ],
   "source": [
    "df[df['subEventName'].isin(ev_filter)]['goal'].value_counts()"
   ]
  },
  {
   "cell_type": "code",
   "execution_count": 187,
   "metadata": {},
   "outputs": [
    {
     "data": {
      "image/png": "[encoded data removed]",
      "text/plain": [
       "<Figure size 504x504 with 1 Axes>"
      ]
     },
     "metadata": {
      "needs_background": "light"
     },
     "output_type": "display_data"
    }
   ],
   "source": [
    "#let's take a look at where the goals are scored fro\n",
    "goal_data = df[(df['goal']==1) & (df['subEventName'].isin(ev_filter))]\n",
    "fig=plt.figure()\n",
    "fig.set_size_inches(7, 7)\n",
    "ax=fig.add_subplot(1,1,1)\n",
    "draw_pitch(ax)\n",
    "plt.scatter(x=goal_data['event_location_x'],y=goal_data['event_location_y'],alpha=0.2,cmap='White',edgecolors='white')\n",
    "plt.show()"
   ]
  },
  {
   "cell_type": "markdown",
   "metadata": {},
   "source": [
    "This all looks good, the goals are obviously coming much more from closer to the goal!"
   ]
  },
  {
   "cell_type": "markdown",
   "metadata": {},
   "source": [
    "## Let's plot histograms of shots for angle to goal for goals and total shots"
   ]
  },
  {
   "cell_type": "code",
   "execution_count": 28,
   "metadata": {},
   "outputs": [],
   "source": [
    "import plotly\n",
    "from plotly import graph_objects as go\n",
    "from plotly import subplots"
   ]
  },
  {
   "cell_type": "code",
   "execution_count": 188,
   "metadata": {},
   "outputs": [
    {
     "data": {
      "image/png": "[encoded data removed]",
      "text/plain": [
       "<Figure size 1080x576 with 2 Axes>"
      ]
     },
     "metadata": {
      "needs_background": "light"
     },
     "output_type": "display_data"
    }
   ],
   "source": [
    "fig, axlist = plt.subplots(nrows=1,ncols=2, figsize = (15,8))\n",
    "axlist[0].hist(x=df[df['subEventName'].isin(ev_filter)]['angle_to_goal'],bins=50)\n",
    "axlist[1].hist(x=df[(df['subEventName'].isin(ev_filter)) & (df['goal']==1)]['angle_to_goal'],bins=50)\n",
    "axlist[0].set_xlabel('Angle')\n",
    "axlist[0].set_ylabel('shots')\n",
    "axlist[1].set_xlabel('Angle')\n",
    "axlist[1].set_ylabel('goals')\n",
    "plt.show()"
   ]
  },
  {
   "cell_type": "code",
   "execution_count": 152,
   "metadata": {},
   "outputs": [
    {
     "data": {
      "text/plain": [
       "'Plotly not working on labs'"
      ]
     },
     "execution_count": 152,
     "metadata": {},
     "output_type": "execute_result"
    }
   ],
   "source": [
    "'''Plotly not working on labs'''\n",
    "\n",
    "# fig = plotly.subplots.make_subplots(rows=1,cols=2)\n",
    "# hist_1 = go.Histogram(x=df[df['subEventName'].isin(ev_filter)]['angle_to_goal'],name='all shots',nbinsx=50)\n",
    "# hist_2 = go.Histogram(x=df[(df['subEventName'].isin(ev_filter)) & (df['goal']==1)]['angle_to_goal'], name='goals',nbinsx=50)\n",
    "# fig.add_trace(hist_1,row=1,col=1)\n",
    "# fig.add_trace(hist_2, row=1, col=2)\n",
    "# fig.update_xaxes(title='angle to goal')\n",
    "# fig.layout['yaxis'].update(title='number of shots')\n",
    "# fig.show()"
   ]
  },
  {
   "cell_type": "markdown",
   "metadata": {},
   "source": [
    "It's not immediately clear that the angle to goal is a massive determining factor, although it may interact with distance in some way\n",
    "<a name='4'></a>\n",
    "## Section 4 Analytical approach\n",
    "\n",
    "We aren't really lookign to classify things as a goal or not, we are looking to assign a probability to a certain shot going in, and as a benchmark we can compare to a model that treats each shot as equal. This will then allows us to accurately guess the number of goals a team scored in a match.\n",
    "\n",
    "There are 2000 matches in the sample, so a good approach would be to look at 1400 matches (training data = ~20000 shots), and create an expected goals model from that. To 'validate and test' the model, we can predict the outcome of the remaining 300(val)/300(test) matches against a) a basic model that always predicts the most common number of goals b) a model that treats all shots as equal, and uses shot count to predict goals\n",
    "\n",
    "We effectively have 4000 samples, because each match has two teams with an individual number of goals in each match\n",
    "\n",
    "#### First let's split the data into TVT"
   ]
  },
  {
   "cell_type": "code",
   "execution_count": 31,
   "metadata": {},
   "outputs": [],
   "source": [
    "#get all the match IDs\n",
    "set_of_unique_matches = tuple(set(matches_df['wyId']))"
   ]
  },
  {
   "cell_type": "code",
   "execution_count": 32,
   "metadata": {},
   "outputs": [
    {
     "name": "stdout",
     "output_type": "stream",
     "text": [
      "In the three sets there are:\n",
      "train set: 1319\n",
      "val set: 404\n",
      "test set: 218\n"
     ]
    }
   ],
   "source": [
    "#split the data into train, test and val\n",
    "matches_id_train_set, matches_id_val_set = train_test_split(set_of_unique_matches,test_size=0.32)\n",
    "matches_id_val_set, matches_id_test_set = train_test_split(matches_id_val_set,test_size = 0.35)\n",
    "print(f'In the three sets there are:\\ntrain set: {len(matches_id_train_set)}\\nval set: {len(matches_id_val_set)}\\ntest set: {len(matches_id_test_set)}')"
   ]
  },
  {
   "cell_type": "code",
   "execution_count": 33,
   "metadata": {},
   "outputs": [],
   "source": [
    "#this creates a df with matches for the train, val, test set separately\n",
    "matches_df_train = matches_df[matches_df['wyId'].isin(matches_id_train_set)]\n",
    "matches_df_val = matches_df[matches_df['wyId'].isin(matches_id_val_set)]\n",
    "matches_df_test = matches_df[matches_df['wyId'].isin(matches_id_test_set)]\n",
    "#split events table into the relevant sets\n",
    "events_df_train = df[df['matchId'].isin(matches_id_train_set)]\n",
    "events_df_val = df[df['matchId'].isin(matches_id_val_set)]\n",
    "events_df_test = df[df['matchId'].isin(matches_id_test_set)]"
   ]
  },
  {
   "cell_type": "markdown",
   "metadata": {},
   "source": [
    "~\n",
    "### Building an xG model to give a value to each shot\n",
    "\n",
    "for the training set, we'll take just the rows in the training dataframe where the eventName is shots. We can then apply a logistic regression model to create a model which predicts 'expected goals' based on the shot metadata, and the relevant collumns"
   ]
  },
  {
   "cell_type": "code",
   "execution_count": 34,
   "metadata": {},
   "outputs": [],
   "source": [
    "events_df_train_shot_only = events_df_train[events_df_train['subEventName'].isin(ev_filter)][['subEventName','event_location_y', 'event_location_x', 'is_penalty', 'is_freekick',\n",
    "       'goal', 'left_foot', 'right_foot', 'head', 'counter_attack',\n",
    "       'opportunity', 'distance_to_goal',\n",
    "       'angle_to_goal']]"
   ]
  },
  {
   "cell_type": "markdown",
   "metadata": {},
   "source": [
    "<a name='4a'></a>\n",
    "## Min Max Scaler and interaction variables\n",
    "\n",
    "1) use min max scaler to normalised data (this will mean that the binary categories don't change)\n",
    "\n",
    "2) create interaction variables"
   ]
  },
  {
   "cell_type": "code",
   "execution_count": 35,
   "metadata": {},
   "outputs": [],
   "source": [
    "from sklearn.preprocessing import MinMaxScaler"
   ]
  },
  {
   "cell_type": "code",
   "execution_count": 36,
   "metadata": {},
   "outputs": [],
   "source": [
    "'''MinMaxScale'''\n",
    "\n",
    "#apply to relevant columns and fit the scaler - note: i've removed left and right foot so it's either head or not.\n",
    "mms = MinMaxScaler().fit(events_df_train_shot_only[['is_penalty', 'is_freekick', 'head', 'counter_attack', 'opportunity', 'distance_to_goal','angle_to_goal']])\n",
    "#transform\n",
    "x_train_mms = pd.DataFrame(columns=['is_penalty', 'is_freekick', 'head', 'counter_attack','opportunity', 'distance_to_goal','angle_to_goal'],data=mms.transform(events_df_train_shot_only[['is_penalty', 'is_freekick', 'head', 'counter_attack','opportunity', 'distance_to_goal','angle_to_goal']]))\n",
    "\n",
    "'''Create polynomial features'''\n",
    "\n",
    "cols_for_poly = ['is_freekick',  'head', 'counter_attack','opportunity']\n",
    "second_cols_for_poly = ['distance_to_goal','angle_to_goal']\n",
    "#first apply the first col * second col\n",
    "for col in cols_for_poly:\n",
    "    for second_col in second_cols_for_poly:\n",
    "        x_train_mms[f'{col}X{second_col}'] = x_train_mms[col] * x_train_mms[second_col]\n",
    "#then square the second cols\n",
    "for col in second_cols_for_poly:\n",
    "    x_train_mms[f'{col}^2'] = x_train_mms[col]**2\n",
    "#then multiply the last two cols together\n",
    "x_train_mms[f'distXangle'] = x_train_mms['distance_to_goal'] * x_train_mms['angle_to_goal']\n"
   ]
  },
  {
   "cell_type": "markdown",
   "metadata": {},
   "source": [
    "<a name='4b'></a>\n",
    "## Logistic Regression 1: Logit \n",
    "\n",
    "We will use a Logit model in order to get probability of a certain shot being a goal"
   ]
  },
  {
   "cell_type": "code",
   "execution_count": 37,
   "metadata": {},
   "outputs": [],
   "source": [
    "y = events_df_train_shot_only['goal'].reset_index().drop(columns='index')\n",
    "x_logit = sm.add_constant(x_train_mms)"
   ]
  },
  {
   "cell_type": "code",
   "execution_count": 38,
   "metadata": {},
   "outputs": [
    {
     "name": "stdout",
     "output_type": "stream",
     "text": [
      "Optimization terminated successfully.\n",
      "         Current function value: 0.264842\n",
      "         Iterations 10\n",
      "                           Logit Regression Results                           \n",
      "==============================================================================\n",
      "Dep. Variable:                   goal   No. Observations:                31237\n",
      "Model:                          Logit   Df Residuals:                    31218\n",
      "Method:                           MLE   Df Model:                           18\n",
      "Date:                Sun, 06 Jun 2021   Pseudo R-squ.:                  0.2430\n",
      "Time:                        18:48:03   Log-Likelihood:                -8272.9\n",
      "converged:                       True   LL-Null:                       -10928.\n",
      "Covariance Type:            nonrobust   LLR p-value:                     0.000\n",
      "===================================================================================================\n",
      "                                      coef    std err          z      P>|z|      [0.025      0.975]\n",
      "---------------------------------------------------------------------------------------------------\n",
      "const                              -2.8678      0.471     -6.094      0.000      -3.790      -1.945\n",
      "is_penalty                          5.8026      0.406     14.281      0.000       5.006       6.599\n",
      "is_freekick                         0.3181      0.480      0.662      0.508      -0.623       1.259\n",
      "head                               -0.6788      0.159     -4.276      0.000      -0.990      -0.368\n",
      "counter_attack                      0.6538      0.238      2.752      0.006       0.188       1.119\n",
      "opportunity                         3.5829      0.459      7.798      0.000       2.682       4.483\n",
      "distance_to_goal                  -20.9260      1.423    -14.705      0.000     -23.715     -18.137\n",
      "angle_to_goal                       0.8688      1.041      0.835      0.404      -1.171       2.908\n",
      "is_freekickXdistance_to_goal        2.7328      1.858      1.471      0.141      -0.908       6.374\n",
      "is_freekickXangle_to_goal          -0.8488      0.672     -1.263      0.206      -2.166       0.468\n",
      "headXdistance_to_goal              -8.6091      1.565     -5.503      0.000     -11.675      -5.543\n",
      "headXangle_to_goal                  1.0115      0.257      3.936      0.000       0.508       1.515\n",
      "counter_attackXdistance_to_goal    -1.0937      1.249     -0.876      0.381      -3.541       1.353\n",
      "counter_attackXangle_to_goal       -0.0927      0.365     -0.254      0.799      -0.807       0.622\n",
      "opportunityXdistance_to_goal        1.2062      0.989      1.220      0.223      -0.732       3.144\n",
      "opportunityXangle_to_goal           0.0523      0.997      0.052      0.958      -1.901       2.006\n",
      "distance_to_goal^2                 20.2197      1.293     15.636      0.000      17.685      22.754\n",
      "angle_to_goal^2                    -0.9502      0.372     -2.555      0.011      -1.679      -0.221\n",
      "distXangle                          0.0310      1.393      0.022      0.982      -2.700       2.762\n",
      "===================================================================================================\n"
     ]
    }
   ],
   "source": [
    "logit_model_basic = sm.Logit(y,x_logit).fit()\n",
    "print(logit_model_basic.summary())"
   ]
  },
  {
   "cell_type": "markdown",
   "metadata": {},
   "source": [
    "Drop some columns that don't add value"
   ]
  },
  {
   "cell_type": "code",
   "execution_count": 39,
   "metadata": {},
   "outputs": [],
   "source": [
    "#Lets drop the columns that aren't adding anything\n",
    "x_logit_reduc = x_logit.drop(columns=['is_freekick','is_freekickXangle_to_goal','counter_attackXdistance_to_goal', 'counter_attackXangle_to_goal',\n",
    "       'opportunityXdistance_to_goal', 'opportunityXangle_to_goal','distXangle'])"
   ]
  },
  {
   "cell_type": "code",
   "execution_count": 40,
   "metadata": {},
   "outputs": [
    {
     "name": "stdout",
     "output_type": "stream",
     "text": [
      "Optimization terminated successfully    (Exit mode 0)\n",
      "            Current function value: 0.2669847700814424\n",
      "            Iterations: 295\n",
      "            Function evaluations: 295\n",
      "            Gradient evaluations: 295\n",
      "                           Logit Regression Results                           \n",
      "==============================================================================\n",
      "Dep. Variable:                   goal   No. Observations:                31237\n",
      "Model:                          Logit   Df Residuals:                    31225\n",
      "Method:                           MLE   Df Model:                           11\n",
      "Date:                Sun, 06 Jun 2021   Pseudo R-squ.:                  0.2426\n",
      "Time:                        18:48:05   Log-Likelihood:                -8277.2\n",
      "converged:                       True   LL-Null:                       -10928.\n",
      "Covariance Type:            nonrobust   LLR p-value:                     0.000\n",
      "================================================================================================\n",
      "                                   coef    std err          z      P>|z|      [0.025      0.975]\n",
      "------------------------------------------------------------------------------------------------\n",
      "const                           -2.9843      0.232    -12.876      0.000      -3.439      -2.530\n",
      "is_penalty                       5.7306      0.245     23.359      0.000       5.250       6.211\n",
      "head                            -0.7534      0.152     -4.959      0.000      -1.051      -0.456\n",
      "counter_attack                   0.4176      0.080      5.249      0.000       0.262       0.573\n",
      "opportunity                      3.6912      0.215     17.141      0.000       3.269       4.113\n",
      "distance_to_goal               -18.8203      0.562    -33.510      0.000     -19.921     -17.720\n",
      "angle_to_goal                    0.5978      0.322      1.858      0.063      -0.033       1.228\n",
      "is_freekickXdistance_to_goal     2.6516      0.424      6.252      0.000       1.820       3.483\n",
      "headXdistance_to_goal           -7.2460      1.532     -4.730      0.000     -10.248      -4.244\n",
      "headXangle_to_goal               0.9409      0.238      3.953      0.000       0.474       1.407\n",
      "distance_to_goal^2              18.1080      0.901     20.096      0.000      16.342      19.874\n",
      "angle_to_goal^2                 -0.6367      0.364     -1.747      0.081      -1.351       0.078\n",
      "================================================================================================\n"
     ]
    }
   ],
   "source": [
    "#Let's add regularization too\n",
    "logit_model_basic_reduc = sm.Logit(y,x_logit_reduc).fit_regularized(method='l1',alpha=1)\n",
    "print(logit_model_basic_reduc.summary())"
   ]
  },
  {
   "cell_type": "markdown",
   "metadata": {},
   "source": [
    "<a name='4c'></a>\n",
    "## ROC-AUC curve"
   ]
  },
  {
   "cell_type": "code",
   "execution_count": 189,
   "metadata": {},
   "outputs": [
    {
     "name": "stdout",
     "output_type": "stream",
     "text": [
      "Train Set ROC-AUC\n"
     ]
    },
    {
     "data": {
      "image/png": "[encoded data removed]",
      "text/plain": [
       "<Figure size 432x288 with 1 Axes>"
      ]
     },
     "metadata": {
      "needs_background": "light"
     },
     "output_type": "display_data"
    },
    {
     "name": "stdout",
     "output_type": "stream",
     "text": [
      "AUC score: 0.8345553667952773\n"
     ]
    }
   ],
   "source": [
    "from sklearn.metrics import roc_curve, auc\n",
    "def roc_auc_(y, logit_model_basic_reduc, x_logit_reduc,curve='yes',proba='no'):\n",
    "    if proba == 'no':\n",
    "        fpr, tpr, threshold = roc_curve(y, logit_model_basic_reduc.predict(x_logit_reduc))\n",
    "    else:\n",
    "        fpr, tpr, threshold = roc_curve(y, logit_model_basic_reduc.predict_proba(x_logit_reduc)[:,1])\n",
    "    if curve == 'yes':\n",
    "        plt.plot(fpr,tpr)\n",
    "        plt.plot(np.linspace(0,1,50),np.linspace(0,1,50))\n",
    "        plt.xlabel('FPR - alpha')\n",
    "        plt.ylabel('TPR - recall')\n",
    "        plt.show()\n",
    "    print(f'AUC score: {auc(fpr,tpr)}')\n",
    "    return auc(fpr,tpr)\n",
    "print('Train Set ROC-AUC')\n",
    "auc_train_logit = roc_auc_(y, logit_model_basic_reduc, x_logit_reduc,curve='yes')\n",
    "\n",
    "## This is the ROC-AUC curve for train data"
   ]
  },
  {
   "cell_type": "markdown",
   "metadata": {},
   "source": [
    "~\n",
    "\n",
    "Validation data - we'll create a function which performs the necessary scaling etc, to get the x data in the right format"
   ]
  },
  {
   "cell_type": "code",
   "execution_count": 190,
   "metadata": {},
   "outputs": [
    {
     "name": "stdout",
     "output_type": "stream",
     "text": [
      "Validation set AUC\n"
     ]
    },
    {
     "data": {
      "image/png": "[encoded data removed]",
      "text/plain": [
       "<Figure size 432x288 with 1 Axes>"
      ]
     },
     "metadata": {
      "needs_background": "light"
     },
     "output_type": "display_data"
    },
    {
     "name": "stdout",
     "output_type": "stream",
     "text": [
      "AUC score: 0.834119307798326\n"
     ]
    }
   ],
   "source": [
    "val_shots_only = events_df_val[events_df_val['subEventName'].isin(ev_filter)]\n",
    "df_ = val_shots_only[['is_penalty', 'is_freekick', 'head', 'counter_attack', 'opportunity', 'distance_to_goal','angle_to_goal']]\n",
    "y_val = val_shots_only['goal'].drop(columns='index')\n",
    "def transform_data_for_logit(df_):\n",
    "    x_mms = pd.DataFrame(columns=df_.columns,data=mms.transform(df_))\n",
    "    x_mms['is_freekickXdistnace_to_goal'] = x_mms['is_freekick']*x_mms['distance_to_goal']\n",
    "    x_mms['headXdistance_to_goal'] = x_mms['head']*x_mms['distance_to_goal']\n",
    "    x_mms['headXangle_to_goal'] = x_mms['head']*x_mms['angle_to_goal']\n",
    "    x_mms['distance_to_goal^2'] = x_mms['distance_to_goal'] **2\n",
    "    x_mms['angle_to_goal^2'] = x_mms['angle_to_goal'] ** 2\n",
    "    x_mms.drop(columns='is_freekick',inplace=True)\n",
    "    x_mms_k = sm.add_constant(x_mms,has_constant='add')\n",
    "    return x_mms_k\n",
    "print(\"Validation set AUC\")\n",
    "x_val_roc_ = transform_data_for_logit(df_)\n",
    "auc_val_logit = roc_auc_(y_val, logit_model_basic_reduc, x_val_roc_, curve='yes')\n"
   ]
  },
  {
   "cell_type": "markdown",
   "metadata": {},
   "source": [
    "## Excellent! It also doesn't appear to be overfit at all. \n",
    "\n",
    "We're able to predict whether or not a goal would be scored from a given shot with significantly more accuracy than taking every shot as equal\n",
    "\n",
    "This model has a lot of intuitive sense. \n",
    "\n",
    "For example, penalty and 'opportunity' increase the expected goal percentage, whereas the value of the shot decreases with the distance to the goal.\n",
    "\n",
    "We now need to create a method to use this to predict individual games, by summing up the value of expected goals a team has in one game. Note: again, this may not be the best method and we will come back to this"
   ]
  },
  {
   "cell_type": "markdown",
   "metadata": {},
   "source": [
    "<a name='4d'></a>\n",
    "## Let's compare performance to Decision tree model\n",
    "\n",
    "We will train on the training data and then use the validation data for assessing performance"
   ]
  },
  {
   "cell_type": "code",
   "execution_count": 162,
   "metadata": {},
   "outputs": [
    {
     "name": "stdout",
     "output_type": "stream",
     "text": [
      "Decision Tree evaluation:\n",
      "\n",
      "max nodes: 13\n",
      "AUC score: 0.816883745596109\n",
      "max nodes: 21\n",
      "AUC score: 0.8277103161874876\n",
      "max nodes: 29\n",
      "AUC score: 0.8302070302385997\n",
      "max nodes: 37\n",
      "AUC score: 0.8311456800466706\n",
      "max nodes: 45\n",
      "AUC score: 0.8303032674209818\n"
     ]
    }
   ],
   "source": [
    "from sklearn.tree import DecisionTreeClassifier, plot_tree\n",
    "list_auc_scores_DTs = []\n",
    "max_nodes = [13,21,29,37,45]\n",
    "print(f'Decision Tree evaluation:\\n')\n",
    "for nodes in max_nodes:\n",
    "    print(f'max nodes: {nodes}')\n",
    "    dtc = DecisionTreeClassifier(max_leaf_nodes=nodes)\n",
    "    dtc.fit(x_logit_reduc, y)\n",
    "    auc_dtc = roc_auc_(y_val, dtc, x_val_roc_,curve='no',proba='yes')\n",
    "    list_auc_scores_DTs.append(auc_dtc)"
   ]
  },
  {
   "cell_type": "markdown",
   "metadata": {},
   "source": [
    "#### Performance doesn't really increase after 29 nodes, so we will use that. Lets look at the AUC curve"
   ]
  },
  {
   "cell_type": "code",
   "execution_count": 164,
   "metadata": {},
   "outputs": [
    {
     "data": {
      "image/png": "[encoded data removed]",
      "text/plain": [
       "<Figure size 432x288 with 1 Axes>"
      ]
     },
     "metadata": {
      "needs_background": "light"
     },
     "output_type": "display_data"
    },
    {
     "name": "stdout",
     "output_type": "stream",
     "text": [
      "AUC score: 0.832908767425292\n"
     ]
    }
   ],
   "source": [
    "auc_dtc_train = roc_auc_(y, dt_best, x_logit_reduc,curve='yes',proba='yes')"
   ]
  },
  {
   "cell_type": "code",
   "execution_count": 163,
   "metadata": {},
   "outputs": [
    {
     "name": "stdout",
     "output_type": "stream",
     "text": [
      "Here are the top couple of layers, showing that there is quite a wide range of variables being used\n"
     ]
    },
    {
     "data": {
      "image/png": "[encoded data removed]",
      "text/plain": [
       "<Figure size 1440x720 with 1 Axes>"
      ]
     },
     "metadata": {
      "needs_background": "light"
     },
     "output_type": "display_data"
    }
   ],
   "source": [
    "fig = plt.figure(figsize=(20,10))\n",
    "dt_best = DecisionTreeClassifier(max_leaf_nodes=29).fit(x_logit_reduc,y)\n",
    "print(f'Here are the top couple of layers, showing that there is quite a wide range of variables being used')\n",
    "fig = plot_tree(dt_best,feature_names = x_val_roc_.columns,max_depth=2,filled=True)\n",
    "plt.show()"
   ]
  },
  {
   "cell_type": "code",
   "execution_count": 45,
   "metadata": {},
   "outputs": [
    {
     "data": {
      "image/png": "[encoded data removed]",
      "text/plain": [
       "<Figure size 432x288 with 1 Axes>"
      ]
     },
     "metadata": {
      "needs_background": "light"
     },
     "output_type": "display_data"
    },
    {
     "name": "stdout",
     "output_type": "stream",
     "text": [
      "AUC score: 0.8277103161874876\n"
     ]
    }
   ],
   "source": [
    "auc_dtc = roc_auc_(y_val, dt_best, x_val_roc_,curve='yes',proba='yes')"
   ]
  },
  {
   "cell_type": "markdown",
   "metadata": {},
   "source": [
    "Overall, we seem to achieve a ~0.83 AUC score on decision tree and logistic regression. This tells us we can achieve a significantly higher amount of predictive power than by treating all shots equally."
   ]
  },
  {
   "cell_type": "markdown",
   "metadata": {},
   "source": [
    "<a name='4e'></a>\n",
    "#### Choosing a threshold\n",
    "\n",
    "Given it's slightly higher value in the validation arena, we will use the logit model. It's also slightly more interpretable.\n",
    "\n",
    "It's difficult to choose a specific value for the relative cost of type 1 and 2 errors. However, the relative cost of a false positive is significantly lower. Roughly 2% of plays end in a goal, so the cost of shooting and losing the ball can be estimated at ~2% (the chance the other team goes on to score + the chance you forewent in passing to team mate, which is higher than 2% because you conceivably were in a good position). The prevalence in the dataset of goals is 0.112 (evidence in section 4), which gives an m value of 0.317.\n",
    "\n",
    "So, in order to find the optimum threshold we can optimise the function\n",
    "\n",
    "fm = TPR - 0.317 FPR"
   ]
  },
  {
   "cell_type": "code",
   "execution_count": 222,
   "metadata": {},
   "outputs": [
    {
     "name": "stdout",
     "output_type": "stream",
     "text": [
      "M value is: 0.396\n",
      "\n",
      "Best model therefore has the following values \n",
      "\n",
      "Threshold: 0.0586 \n",
      "TPR: 0.94 \n",
      "FPR: 0.51\n",
      "Fm value: 0.737\n"
     ]
    }
   ],
   "source": [
    "m = ((1-0.112)/0.112) * (0.05/1) \n",
    "print(f'M value is: {round(m,3)}')\n",
    "fpr, tpr, threshold = roc_curve(y_val, logit_model_basic_reduc.predict(x_val_roc_))\n",
    "fm = tpr - m*fpr\n",
    "fm_maxidx = np.argmax(fm)\n",
    "print(f'\\nBest model therefore has the following values \\n\\nThreshold: {round(threshold[fm_maxidx],4)} \\nTPR: {round(tpr[fm_maxidx],2)} \\nFPR: {round(fpr[fm_maxidx],2)}')\n",
    "print(f'Fm value: {round(fm[fm_maxidx],3)}')"
   ]
  },
  {
   "cell_type": "markdown",
   "metadata": {},
   "source": [
    "<a name='4f'></a>\n",
    "### Running data on Test Set\n",
    "\n",
    "Now we have our chosen model and threshold we can re-run the data on the test set\n",
    "\n",
    "##### Let's run the AUC-ROC curve first"
   ]
  },
  {
   "cell_type": "code",
   "execution_count": 223,
   "metadata": {},
   "outputs": [
    {
     "name": "stdout",
     "output_type": "stream",
     "text": [
      "Test set AUC\n"
     ]
    },
    {
     "data": {
      "image/png": "[encoded data removed]",
      "text/plain": [
       "<Figure size 432x288 with 1 Axes>"
      ]
     },
     "metadata": {
      "needs_background": "light"
     },
     "output_type": "display_data"
    },
    {
     "name": "stdout",
     "output_type": "stream",
     "text": [
      "AUC score: 0.8263974155664164\n"
     ]
    }
   ],
   "source": [
    "test_shots_only = events_df_test[events_df_test['subEventName'].isin(ev_filter)]\n",
    "df_test = test_shots_only[['is_penalty', 'is_freekick', 'head', 'counter_attack', 'opportunity', 'distance_to_goal','angle_to_goal']]\n",
    "y_test = test_shots_only['goal'].drop(columns='index')\n",
    "print(\"Test set AUC\")\n",
    "x_test_roc_ = transform_data_for_logit(df_test)\n",
    "auc_test_logit = roc_auc_(y_test, logit_model_basic_reduc, x_test_roc_, curve='yes')\n"
   ]
  },
  {
   "cell_type": "markdown",
   "metadata": {},
   "source": [
    "#### Now let's calculate the FPR, TPR and Fm score at our threshold values"
   ]
  },
  {
   "cell_type": "code",
   "execution_count": 249,
   "metadata": {},
   "outputs": [
    {
     "data": {
      "text/html": [
       "<div>\n",
       "<style scoped>\n",
       "    .dataframe tbody tr th:only-of-type {\n",
       "        vertical-align: middle;\n",
       "    }\n",
       "\n",
       "    .dataframe tbody tr th {\n",
       "        vertical-align: top;\n",
       "    }\n",
       "\n",
       "    .dataframe thead th {\n",
       "        text-align: right;\n",
       "    }\n",
       "</style>\n",
       "<table border=\"1\" class=\"dataframe\">\n",
       "  <thead>\n",
       "    <tr style=\"text-align: right;\">\n",
       "      <th></th>\n",
       "      <th>fpr</th>\n",
       "      <th>tpr</th>\n",
       "      <th>fm_score</th>\n",
       "    </tr>\n",
       "  </thead>\n",
       "  <tbody>\n",
       "    <tr>\n",
       "      <th>0</th>\n",
       "      <td>0.500323</td>\n",
       "      <td>0.925926</td>\n",
       "      <td>0.727584</td>\n",
       "    </tr>\n",
       "  </tbody>\n",
       "</table>\n",
       "</div>"
      ],
      "text/plain": [
       "        fpr       tpr  fm_score\n",
       "0  0.500323  0.925926  0.727584"
      ]
     },
     "execution_count": 249,
     "metadata": {},
     "output_type": "execute_result"
    }
   ],
   "source": [
    "fpr_test, tpr_test, threshold_test = roc_curve(y_test, logit_model_basic_reduc.predict(x_test_roc_))\n",
    "#create predictions\n",
    "test_set_size = len(y_test)\n",
    "preds = np.where(logit_model_basic_reduc.predict(x_test_roc_)>threshold[fm_maxidx],1,0)\n",
    "FPR = np.sum(np.where(preds>y_test,1,0)) / np.sum(np.where(y_test == 0,1,0))\n",
    "TPR = np.sum(np.where((preds==1) & (y_test==1),1,0))/ np.sum(np.where(y_test==1,1,0))\n",
    "fm_score = TPR - m*FPR\n",
    "\n",
    "pd.DataFrame(data=[[FPR,TPR,fm_score]],columns = ['fpr', 'tpr', 'fm_score'])\n"
   ]
  },
  {
   "cell_type": "markdown",
   "metadata": {},
   "source": [
    "### Great ! Our Data performances very similarly on the test set! "
   ]
  },
  {
   "cell_type": "markdown",
   "metadata": {},
   "source": [
    "~~~~~~~"
   ]
  },
  {
   "cell_type": "markdown",
   "metadata": {},
   "source": [
    "<a name='5'></a>\n",
    "## Section Five - Can we use this to predict the way a match is most likely to go\n",
    "\n",
    "This is impact because goals are rare, and therefore judging a team on scores alone only makes sense with a huge sample. If we can find the leading indicators that tend, over time, to lead to good performance, this has an impact on coach's ability to analyse the games.\n",
    "\n",
    "Initially, let's get a baseline for predictions, based on simply predicting the most likely score.\n",
    "\n"
   ]
  },
  {
   "cell_type": "code",
   "execution_count": 46,
   "metadata": {},
   "outputs": [
    {
     "data": {
      "text/html": [
       "<div>\n",
       "<style scoped>\n",
       "    .dataframe tbody tr th:only-of-type {\n",
       "        vertical-align: middle;\n",
       "    }\n",
       "\n",
       "    .dataframe tbody tr th {\n",
       "        vertical-align: top;\n",
       "    }\n",
       "\n",
       "    .dataframe thead th {\n",
       "        text-align: right;\n",
       "    }\n",
       "</style>\n",
       "<table border=\"1\" class=\"dataframe\">\n",
       "  <thead>\n",
       "    <tr style=\"text-align: right;\">\n",
       "      <th></th>\n",
       "      <th>home_team_score</th>\n",
       "    </tr>\n",
       "  </thead>\n",
       "  <tbody>\n",
       "    <tr>\n",
       "      <th>1</th>\n",
       "      <td>0.316332</td>\n",
       "    </tr>\n",
       "    <tr>\n",
       "      <th>0</th>\n",
       "      <td>0.246265</td>\n",
       "    </tr>\n",
       "  </tbody>\n",
       "</table>\n",
       "</div>"
      ],
      "text/plain": [
       "   home_team_score\n",
       "1         0.316332\n",
       "0         0.246265"
      ]
     },
     "metadata": {},
     "output_type": "display_data"
    },
    {
     "data": {
      "text/html": [
       "<div>\n",
       "<style scoped>\n",
       "    .dataframe tbody tr th:only-of-type {\n",
       "        vertical-align: middle;\n",
       "    }\n",
       "\n",
       "    .dataframe tbody tr th {\n",
       "        vertical-align: top;\n",
       "    }\n",
       "\n",
       "    .dataframe thead th {\n",
       "        text-align: right;\n",
       "    }\n",
       "</style>\n",
       "<table border=\"1\" class=\"dataframe\">\n",
       "  <thead>\n",
       "    <tr style=\"text-align: right;\">\n",
       "      <th></th>\n",
       "      <th>away_team_score</th>\n",
       "    </tr>\n",
       "  </thead>\n",
       "  <tbody>\n",
       "    <tr>\n",
       "      <th>1</th>\n",
       "      <td>0.350850</td>\n",
       "    </tr>\n",
       "    <tr>\n",
       "      <th>0</th>\n",
       "      <td>0.328181</td>\n",
       "    </tr>\n",
       "  </tbody>\n",
       "</table>\n",
       "</div>"
      ],
      "text/plain": [
       "   away_team_score\n",
       "1         0.350850\n",
       "0         0.328181"
      ]
     },
     "execution_count": 46,
     "metadata": {},
     "output_type": "execute_result"
    }
   ],
   "source": [
    "display(pd.DataFrame(matches_df['home_team_score'].value_counts(normalize=True).sort_values(ascending=False).head(2)))\n",
    "pd.DataFrame(matches_df['away_team_score'].value_counts(normalize=True).sort_values(ascending=False).head(2))"
   ]
  },
  {
   "cell_type": "markdown",
   "metadata": {},
   "source": [
    "## So by predicting the team to score 1 goal, we would be correct around 33.2% of the time (blended home and away)"
   ]
  },
  {
   "cell_type": "markdown",
   "metadata": {},
   "source": [
    "<a name='5a'></a>\n",
    "## Basic Shots model for comparison\n",
    "\n",
    "Now let's create a model which looks at the number of shots a team has, assigns a homogenous value to each shot, in order to predict the number of goals a team will score in a match"
   ]
  },
  {
   "cell_type": "markdown",
   "metadata": {},
   "source": [
    "The \"Model\" here will be simply to find out how how many goals there were, and how many shots there were, divide one by the other, to get the average value of 'a shot'"
   ]
  },
  {
   "cell_type": "code",
   "execution_count": 47,
   "metadata": {},
   "outputs": [
    {
     "name": "stdout",
     "output_type": "stream",
     "text": [
      "There were 3486 goals\n",
      "There were 31237 shots\n",
      "So each shot is worth 0.112 of a gaol\n"
     ]
    }
   ],
   "source": [
    "goals_train_set = len(events_df_train[(events_df_train['goal']==1) & (events_df_train['subEventName'].isin(ev_filter))])\n",
    "shots_train_set = len(events_df_train[(events_df_train['subEventName'].isin(ev_filter))])\n",
    "conversion = round(goals_train_set / shots_train_set,3)\n",
    "print(f'There were {goals_train_set} goals\\nThere were {shots_train_set} shots\\nSo each shot is worth {conversion} of a gaol')"
   ]
  },
  {
   "cell_type": "markdown",
   "metadata": {},
   "source": [
    "### Judging performance\n",
    "\n",
    "We will judge relative performance of the shot and more advanced models in 3 ways:\n",
    "\n",
    "1) Let's take squared difference between actual goals and xG\n",
    "\n",
    "2) let's take squared difference between actual goals and rounded xG\n",
    "\n",
    "3) What % of scores are they able to accurately predict - note: summing xG in a match may not be the absolutely best way to use the xG model, because it will result in the mean goals scored, as opposed to the max. likelihood. We'll return to this later"
   ]
  },
  {
   "cell_type": "code",
   "execution_count": 48,
   "metadata": {},
   "outputs": [],
   "source": [
    "#create an xG for each shot in the events table\n",
    "events_df_val['xG'] = events_df_val['subEventName'].apply(lambda x: conversion if x in (ev_filter) else 0)\n",
    "events_df_train['xG'] = events_df_train['subEventName'].apply(lambda x: conversion if x in (ev_filter) else 0)"
   ]
  },
  {
   "cell_type": "code",
   "execution_count": 49,
   "metadata": {},
   "outputs": [
    {
     "name": "stdout",
     "output_type": "stream",
     "text": [
      "Training set:\n",
      "Average squared error of model: 1.4594970007581503\n",
      "Average rounded squared error shots model: 1.5223654283548143\n",
      "Correct scores: 34.0%\n",
      "Validation set:\n",
      "Average squared error of model: 1.4265194455445545\n",
      "Average rounded squared error shots model: 1.5173267326732673\n",
      "Correct scores: 31.4%\n"
     ]
    }
   ],
   "source": [
    "'''This function takes a table with xGs by event, and creates a performance metric table'''\n",
    "\n",
    "#helper- create a function that gets the score from the matches table\n",
    "def get_score(matchId, teamId):\n",
    "    return (matches_df[(matches_df['wyId'] == matchId)]['teamsData']).item()[teamId]['score']\n",
    "    \n",
    "def judge_performance(events_df_val,column_name):\n",
    "    \n",
    "    #group by match and id\n",
    "    goals_predictions_table_shot_model = events_df_val.groupby(by=['matchId','teamId'])[[column_name]].sum().reset_index()\n",
    "    #create blank column for us to fill in\n",
    "    goals_predictions_table_shot_model['actual_goals'] = ''\n",
    "    location_of_target_column = (goals_predictions_table_shot_model.columns).get_loc('actual_goals') \n",
    "    \n",
    "    #get the scores for all the matchesin the new table we created\n",
    "    goals_predictions_table_shot_model['actual_goals'] = goals_predictions_table_shot_model.apply(lambda x: get_score(x.matchId,str(x.teamId)),axis=1)\n",
    "    #create a rounded xG metric\n",
    "    goals_predictions_table_shot_model['rounded_xG'] = goals_predictions_table_shot_model[column_name].apply(lambda x: round(x,0))\n",
    "    \n",
    "    #create two error metrics\n",
    "    squared_error_shots_model = np.sum((goals_predictions_table_shot_model[column_name] - goals_predictions_table_shot_model['actual_goals'])**2) / len(goals_predictions_table_shot_model)\n",
    "    rounded_squared_error_shots_model = np.sum((goals_predictions_table_shot_model['rounded_xG'] - goals_predictions_table_shot_model['actual_goals'])**2) / len(goals_predictions_table_shot_model)\n",
    "    correct_predictions = f'{100*round(np.sum(goals_predictions_table_shot_model[\"rounded_xG\"] == goals_predictions_table_shot_model[\"actual_goals\"]) / len(goals_predictions_table_shot_model),3)}%'\n",
    "    print(f'Average squared error of model: {squared_error_shots_model}\\nAverage rounded squared error shots model: {rounded_squared_error_shots_model}\\nCorrect scores: {correct_predictions}')\n",
    "    return goals_predictions_table_shot_model, squared_error_shots_model, rounded_squared_error_shots_model, correct_predictions\n",
    "\n",
    "print(\"Training set:\")\n",
    "basic_model_train, basic_mod_sqerr_train, basic_model_roundsqerr_train, correct_predictions_basic_model_train = judge_performance(events_df_train,'xG')\n",
    "print(\"Validation set:\")\n",
    "basic_model_table, basic_model_sqerr,basic_model_round_sqerr, correct_predictions =judge_performance(events_df_val,'xG')"
   ]
  },
  {
   "cell_type": "markdown",
   "metadata": {},
   "source": [
    "\n",
    "\n",
    "## So now let's use the xG model on the train and val set"
   ]
  },
  {
   "cell_type": "markdown",
   "metadata": {},
   "source": [
    "Let's try it on the training data and the validation data, to check for overfitting. Although we can only use it on the validation set to compare with the shots model"
   ]
  },
  {
   "cell_type": "code",
   "execution_count": 50,
   "metadata": {},
   "outputs": [],
   "source": [
    "def predict_xG(is_penalty, is_freekick, head, counter_attack, opportunity, distance_to_goal, angle_to_goal,logit_model):\n",
    "    columns=['is_penalty', 'is_freekick', 'head', 'counter_attack', 'opportunity', 'distance_to_goal','angle_to_goal']\n",
    "    df_ = pd.DataFrame([[is_penalty, is_freekick, head, counter_attack, opportunity, distance_to_goal,angle_to_goal]],columns=columns)\n",
    "    x_mms = pd.DataFrame(columns=columns,data=mms.transform(df_))\n",
    "    x_mms['is_freekickXdistnace_to_goal'] = is_freekick*x_mms['distance_to_goal']\n",
    "    x_mms['headXdistance_to_goal'] = head*x_mms['distance_to_goal']\n",
    "    x_mms['headXangle_to_goal'] = head*x_mms['angle_to_goal']\n",
    "    x_mms['distance_to_goal^2'] = x_mms['distance_to_goal'] **2\n",
    "    x_mms['angle_to_goal^2'] = x_mms['angle_to_goal'] ** 2\n",
    "    x_mms.drop(columns='is_freekick',inplace=True)\n",
    "    x_mms_k = sm.add_constant(x_mms,has_constant='add')\n",
    "    return logit_model.predict(x_mms_k)"
   ]
  },
  {
   "cell_type": "code",
   "execution_count": 154,
   "metadata": {},
   "outputs": [],
   "source": [
    "##Here's one i made earlier, which has the function above applied to it\n",
    "with open('saved_dfs/events_with_xg_logit_applied_train','w') as f:\n",
    "    events_df_train.to_csv(f)\n",
    "with open('saved_dfs/events_with_xg_logit_applied_val','w') as f:\n",
    "    events_df_val.to_csv(f)"
   ]
  },
  {
   "cell_type": "code",
   "execution_count": 51,
   "metadata": {},
   "outputs": [],
   "source": [
    "'''Doesnt need to be ran, as we can load from above'''\n",
    "#create an xG for each shot in the events table\n",
    "# events_df_train['xG_logit'] = events_df_train.apply(lambda x: predict_xG(x.is_penalty,x.is_freekick,x['head'],x.counter_attack, x.opportunity, x.distance_to_goal, x.angle_to_goal,logit_model_basic_reduc) if x.subEventName in ev_filter else 0, axis=1)"
   ]
  },
  {
   "cell_type": "code",
   "execution_count": 52,
   "metadata": {},
   "outputs": [
    {
     "name": "stdout",
     "output_type": "stream",
     "text": [
      "Average squared error of model: 1.1542759919909067\n",
      "Average rounded squared error shots model: 1.2748294162244125\n",
      "Correct scores: 40.699999999999996%\n"
     ]
    }
   ],
   "source": [
    "logit_model_perf_table_train, logit_model_sqerr_train, logit_model_rounded_sqerr_train, correct_predictions_train = judge_performance(events_df_train,'xG_logit')"
   ]
  },
  {
   "cell_type": "code",
   "execution_count": 53,
   "metadata": {},
   "outputs": [],
   "source": [
    "'''Doesnt need to be ran, as we can load from above'''\n",
    "#create an xG for each shot in the events table\n",
    "# events_df_val['xG_logit'] = events_df_val.apply(lambda x: predict_xG(x.is_penalty,x.is_freekick,x['head'],x.counter_attack, x.opportunity, x.distance_to_goal, x.angle_to_goal,logit_model_basic_reduc) if x.subEventName in ev_filter else 0, axis=1)\n"
   ]
  },
  {
   "cell_type": "code",
   "execution_count": 54,
   "metadata": {},
   "outputs": [
    {
     "name": "stdout",
     "output_type": "stream",
     "text": [
      "Average squared error of model: 1.2310572821329222\n",
      "Average rounded squared error shots model: 1.306930693069307\n",
      "Correct scores: 37.6%\n"
     ]
    }
   ],
   "source": [
    "#group by match and id\n",
    "logit_model_perf_table, logit_model_sqerr, logit_model_rounded_sqerr, correct_predictions = judge_performance(events_df_val,'xG_logit')"
   ]
  },
  {
   "cell_type": "markdown",
   "metadata": {},
   "source": [
    "#### Success! We have significantly lower squared error of model than we did before and have beaten the base model of 33%\n",
    "\n",
    "\n",
    "\n",
    "We did better on the training data (although not by that much), so we may have a slight problem with overfitting, although it is within acceptable bounds"
   ]
  },
  {
   "cell_type": "markdown",
   "metadata": {},
   "source": [
    "### Moving away from using the mean as a predictor\n",
    "\n",
    "Up until now, we have predicted the number of goals a team will score by using the sum of xG. This is likely to produce the best score in terms of 'average squared error' but may be worse at predicting individual match outcomes. We may be better off using a max. likelihood model, such as logistic regression or decision tree, to predict the score.\n",
    "\n",
    "We may also want to include additional metrics, such as shot count and summed variance of the Xg (for example: two 0.5 xg shots are very different to 1 0.9 xG shot and a 0.1 xG shot). We will use the variance formula: \n",
    "var(allshots) = ∑var(shot) so we have the mean and variance of a teams goals in a match. We will then apply this to various classifier models"
   ]
  },
  {
   "cell_type": "code",
   "execution_count": 55,
   "metadata": {},
   "outputs": [],
   "source": [
    "#create a function for generating the variance\n",
    "def var_function(x):\n",
    "    return np.sum([x*(1-x) for x in x])\n",
    "\n",
    "#create a table with variance, xG and shots\n",
    "def create_xg_and_shot_df(events_df_val):\n",
    "#create a col with a 1 in it if theres a shot\n",
    "    events_df_val['shot'] = events_df_val['subEventName'].apply(lambda x: 1 if x in (ev_filter) else 0)\n",
    "\n",
    "    #apply aggregator function to shot and xg model, and drop the variance of shots\n",
    "    multi_facet_model_val = events_df_val.groupby(\n",
    "                        by=['matchId','teamId'])[['xG_logit','shot']].agg([lambda x: var_function(x),'sum']).drop(columns=[('shot','<lambda_0>')])\n",
    "    #remove the multi-levelling\n",
    "    multi_facet_model_val[['variance','xg','shots']] = multi_facet_model_val[[('xG_logit', '<lambda_0>'),('xG_logit','sum'),('shot','sum')]]\n",
    "    multi_facet_model_val = multi_facet_model_val[['variance','xg','shots']].reset_index()\n",
    "\n",
    "    #create blank column for us to fill in\n",
    "    multi_facet_model_val['actual_goals'] = ''\n",
    "    loc_target = multi_facet_model_val.columns.get_loc(('actual_goals', '')) \n",
    "    #get the scores for all the matchesin the new table we created - we have to use a different method because we've got these weird columns\n",
    "    for row in range(len(multi_facet_model_val)):\n",
    "        multi_facet_model_val.iloc[row,int(loc_target)] = get_score(multi_facet_model_val.iloc[row,0],str(multi_facet_model_val.iloc[row,1]))\n",
    "    return multi_facet_model_val\n",
    "xg_shot_var_model_val = create_xg_and_shot_df(events_df_val)        "
   ]
  },
  {
   "cell_type": "code",
   "execution_count": 56,
   "metadata": {},
   "outputs": [],
   "source": [
    "xg_shot_var_model_train = create_xg_and_shot_df(events_df_train)"
   ]
  },
  {
   "cell_type": "markdown",
   "metadata": {},
   "source": [
    "~\n",
    "### Data preparation\n",
    "\n",
    "We will attempt a classifier as well as regression.\n",
    "\n",
    "Note: the sklearn functions don't take one hot encoding"
   ]
  },
  {
   "cell_type": "code",
   "execution_count": 59,
   "metadata": {},
   "outputs": [],
   "source": [
    "y_train_multi_face = xg_shot_var_model_train['actual_goals']\n",
    "y_val_multi_face = xg_shot_var_model_val['actual_goals']"
   ]
  },
  {
   "cell_type": "code",
   "execution_count": 60,
   "metadata": {},
   "outputs": [],
   "source": [
    "#now get the x's sorted\n",
    "x_train_multi_face = xg_shot_var_model_train[[\n",
    "                                              (    'variance', ''),\n",
    "                                                (          'xg', ''),\n",
    "                                                (       'shots', '')]]\n",
    "x_val_multi_face = xg_shot_var_model_val[[(         'variance', ''),\n",
    "                                                (          'xg', ''),\n",
    "                                                (       'shots', '')]]"
   ]
  },
  {
   "cell_type": "markdown",
   "metadata": {},
   "source": [
    "#### The Y variable here will be very skewed, positively. There's a few options we could employ\n",
    "\n",
    "1) Take a log of the Y variable\n",
    "\n",
    "2) Use a sigmoid and run it as a classification\n",
    "\n",
    "3) Try polynomial features in a regression analysis\n",
    "\n",
    "4) Try decision tree, which may capture the non linearity of how the variables relate to each other\n",
    "\n",
    "5) Take an analytical approach, using binomial theory to calculate the chance of 1 / 2 /3 goals based on the probability of each shot\n",
    "\n",
    "One thing to mention is that number of shots, and variance will effectively decrease the accuracy of the xG model. The variables are also definitely correlated"
   ]
  },
  {
   "cell_type": "code",
   "execution_count": 61,
   "metadata": {},
   "outputs": [
    {
     "name": "stdout",
     "output_type": "stream",
     "text": [
      "Skew of the Y value is 1.1098391683343996\n"
     ]
    }
   ],
   "source": [
    "print(f'Skew of the Y value is {xg_shot_var_model_train[\"actual_goals\"].skew()}')\n"
   ]
  },
  {
   "cell_type": "code",
   "execution_count": 62,
   "metadata": {},
   "outputs": [],
   "source": [
    "from sklearn.linear_model import LinearRegression, Lasso\n",
    "from sklearn.metrics import r2_score"
   ]
  },
  {
   "cell_type": "code",
   "execution_count": 73,
   "metadata": {},
   "outputs": [],
   "source": [
    "np.random_seed = 1"
   ]
  },
  {
   "cell_type": "markdown",
   "metadata": {},
   "source": [
    "<a name='5b'></a>\n",
    "\n",
    "### Linear Regression"
   ]
  },
  {
   "cell_type": "code",
   "execution_count": 74,
   "metadata": {},
   "outputs": [
    {
     "data": {
      "text/plain": [
       "'Correct Predictions 36.1% of the time on val'"
      ]
     },
     "metadata": {},
     "output_type": "display_data"
    },
    {
     "data": {
      "text/plain": [
       "'Correct Predictions 39.6% of the time on train'"
      ]
     },
     "metadata": {},
     "output_type": "display_data"
    }
   ],
   "source": [
    "#train model\n",
    "lin_reg = LinearRegression().fit(x_train_multi_face,y_train_multi_face)\n",
    "#predict train set\n",
    "def predict_model_cheat(lin_reg,x_train_multi_face, y_train_multi_face, x_val_multi_face, y_val_multi_face):\n",
    "    lin_reg_train_predictions = lin_reg.predict(x_train_multi_face)\n",
    "    lin_reg_train_rounded_scores = np.round(lin_reg_train_predictions)\n",
    "    lin_reg_val_predictions = lin_reg.predict(x_val_multi_face)\n",
    "    lin_reg_val_rounded_scores = np.round(lin_reg_val_predictions)\n",
    "    display(f'Correct Predictions {100*round(np.sum(lin_reg_val_rounded_scores==y_val_multi_face) / len(y_val_multi_face),3)}% of the time on val')\n",
    "    display(f'Correct Predictions {100*round(np.sum(lin_reg_train_rounded_scores==y_train_multi_face) / len(y_train_multi_face),3)}% of the time on train')\n",
    "    return lin_reg_val_rounded_scores\n",
    "lin_reg_val_rounded_scores = predict_model_cheat(lin_reg,x_train_multi_face, y_train_multi_face, x_val_multi_face, y_val_multi_face)"
   ]
  },
  {
   "cell_type": "markdown",
   "metadata": {},
   "source": [
    "We're overfitting a bit - Let's see the coefficients. We'l come back and do a Lasso if we can't get better than this with another model"
   ]
  },
  {
   "cell_type": "code",
   "execution_count": 75,
   "metadata": {},
   "outputs": [
    {
     "data": {
      "text/html": [
       "<div>\n",
       "<style scoped>\n",
       "    .dataframe tbody tr th:only-of-type {\n",
       "        vertical-align: middle;\n",
       "    }\n",
       "\n",
       "    .dataframe tbody tr th {\n",
       "        vertical-align: top;\n",
       "    }\n",
       "\n",
       "    .dataframe thead th {\n",
       "        text-align: right;\n",
       "    }\n",
       "</style>\n",
       "<table border=\"1\" class=\"dataframe\">\n",
       "  <thead>\n",
       "    <tr style=\"text-align: right;\">\n",
       "      <th></th>\n",
       "      <th>variance</th>\n",
       "      <th>xg</th>\n",
       "      <th>shots</th>\n",
       "    </tr>\n",
       "  </thead>\n",
       "  <tbody>\n",
       "    <tr>\n",
       "      <th>0</th>\n",
       "      <td>0.706346</td>\n",
       "      <td>0.631778</td>\n",
       "      <td>-0.046399</td>\n",
       "    </tr>\n",
       "  </tbody>\n",
       "</table>\n",
       "</div>"
      ],
      "text/plain": [
       "   variance        xg     shots\n",
       "0  0.706346  0.631778 -0.046399"
      ]
     },
     "metadata": {},
     "output_type": "display_data"
    }
   ],
   "source": [
    "display(pd.DataFrame(data=lin_reg.coef_.reshape(1,-1), columns= [x[0] for x in x_train_multi_face.columns]))"
   ]
  },
  {
   "cell_type": "code",
   "execution_count": 76,
   "metadata": {},
   "outputs": [
    {
     "data": {
      "image/png": "[encoded data removed]",
      "text/plain": [
       "<Figure size 432x288 with 1 Axes>"
      ]
     },
     "metadata": {
      "needs_background": "light"
     },
     "output_type": "display_data"
    }
   ],
   "source": [
    "#plot errors - they seem\n",
    "errors = lin_reg_val_rounded_scores - y_val_multi_face\n",
    "plt.scatter(lin_reg_val_rounded_scores,errors)\n",
    "plt.ylabel('over_prediction')\n",
    "plt.xlabel('prediction')\n",
    "plt.show()"
   ]
  },
  {
   "cell_type": "markdown",
   "metadata": {},
   "source": [
    "<a name='5c'></a>\n",
    "\n",
    "# Classification\n",
    "\n",
    "### Logistic Regression"
   ]
  },
  {
   "cell_type": "code",
   "execution_count": 77,
   "metadata": {},
   "outputs": [
    {
     "data": {
      "text/plain": [
       "'Correct Predictions 41.099999999999994% of the time on val'"
      ]
     },
     "metadata": {},
     "output_type": "display_data"
    },
    {
     "data": {
      "text/plain": [
       "'Correct Predictions 41.5% of the time on train'"
      ]
     },
     "metadata": {},
     "output_type": "display_data"
    }
   ],
   "source": [
    "from sklearn.linear_model import LogisticRegression\n",
    "log_model = LogisticRegression(penalty='none',multi_class='multinomial')\n",
    "log_model.fit(x_train_multi_face,y_train_multi_face.astype('category'))\n",
    "rounded_scores_log_res = predict_model_cheat(log_model,x_train_multi_face, y_train_multi_face, x_val_multi_face, y_val_multi_face)"
   ]
  },
  {
   "cell_type": "markdown",
   "metadata": {},
   "source": [
    "#### Amazing! Much, much better :-)\n",
    "\n",
    "It's worth noting that our validation set is only 404 samples, so this difference is 20 over 150. Let's try Ridge"
   ]
  },
  {
   "cell_type": "code",
   "execution_count": 78,
   "metadata": {},
   "outputs": [
    {
     "data": {
      "text/html": [
       "<div>\n",
       "<style scoped>\n",
       "    .dataframe tbody tr th:only-of-type {\n",
       "        vertical-align: middle;\n",
       "    }\n",
       "\n",
       "    .dataframe tbody tr th {\n",
       "        vertical-align: top;\n",
       "    }\n",
       "\n",
       "    .dataframe thead th {\n",
       "        text-align: right;\n",
       "    }\n",
       "</style>\n",
       "<table border=\"1\" class=\"dataframe\">\n",
       "  <thead>\n",
       "    <tr style=\"text-align: right;\">\n",
       "      <th></th>\n",
       "      <th>0.109854</th>\n",
       "      <th>0.075431</th>\n",
       "      <th>0.132571</th>\n",
       "      <th>0.159986</th>\n",
       "      <th>0.193070</th>\n",
       "      <th>0.232995</th>\n",
       "      <th>0.281177</th>\n",
       "      <th>0.339322</th>\n",
       "      <th>0.409492</th>\n",
       "      <th>0.494171</th>\n",
       "    </tr>\n",
       "  </thead>\n",
       "  <tbody>\n",
       "    <tr>\n",
       "      <th>0</th>\n",
       "      <td>0.424505</td>\n",
       "      <td>0.424505</td>\n",
       "      <td>0.424505</td>\n",
       "      <td>0.424505</td>\n",
       "      <td>0.424505</td>\n",
       "      <td>0.424505</td>\n",
       "      <td>0.424505</td>\n",
       "      <td>0.424505</td>\n",
       "      <td>0.424505</td>\n",
       "      <td>0.424505</td>\n",
       "    </tr>\n",
       "  </tbody>\n",
       "</table>\n",
       "</div>"
      ],
      "text/plain": [
       "   0.109854  0.075431  0.132571  0.159986  0.193070  0.232995  0.281177  \\\n",
       "0  0.424505  0.424505  0.424505  0.424505  0.424505  0.424505  0.424505   \n",
       "\n",
       "   0.339322  0.409492  0.494171  \n",
       "0  0.424505  0.424505  0.424505  "
      ]
     },
     "execution_count": 78,
     "metadata": {},
     "output_type": "execute_result"
    }
   ],
   "source": [
    "from sklearn.linear_model import RidgeClassifier\n",
    "ridge_array = np.zeros(50,)\n",
    "ridge_alpha = np.geomspace(0.001,10,50)\n",
    "for idx, alpha in enumerate(ridge_alpha):\n",
    "    val_preds = RidgeClassifier(alpha=alpha).fit(x_train_multi_face,y_train_multi_face.astype('category')).predict(x_val_multi_face)\n",
    "    score = np.sum(val_preds==y_val_multi_face) / len(y_val_multi_face)\n",
    "    ridge_array[idx] = score\n",
    "pd.DataFrame(data=ridge_array.reshape(-1,1),index=ridge_alpha).sort_values(by=0,ascending=False).head(10).T"
   ]
  },
  {
   "cell_type": "markdown",
   "metadata": {},
   "source": [
    "#### Even better with some"
   ]
  },
  {
   "cell_type": "markdown",
   "metadata": {},
   "source": [
    "<a name='5d'></a>\n",
    "\n",
    "### Finally let's try KNN"
   ]
  },
  {
   "cell_type": "code",
   "execution_count": 80,
   "metadata": {},
   "outputs": [],
   "source": [
    "from sklearn.neighbors import KNeighborsClassifier"
   ]
  },
  {
   "cell_type": "code",
   "execution_count": 81,
   "metadata": {},
   "outputs": [
    {
     "data": {
      "text/html": [
       "<div>\n",
       "<style scoped>\n",
       "    .dataframe tbody tr th:only-of-type {\n",
       "        vertical-align: middle;\n",
       "    }\n",
       "\n",
       "    .dataframe tbody tr th {\n",
       "        vertical-align: top;\n",
       "    }\n",
       "\n",
       "    .dataframe thead th {\n",
       "        text-align: right;\n",
       "    }\n",
       "</style>\n",
       "<table border=\"1\" class=\"dataframe\">\n",
       "  <thead>\n",
       "    <tr style=\"text-align: right;\">\n",
       "      <th></th>\n",
       "      <th>9</th>\n",
       "      <th>7</th>\n",
       "      <th>5</th>\n",
       "      <th>3</th>\n",
       "      <th>1</th>\n",
       "    </tr>\n",
       "  </thead>\n",
       "  <tbody>\n",
       "    <tr>\n",
       "      <th>0</th>\n",
       "      <td>0.403465</td>\n",
       "      <td>0.39604</td>\n",
       "      <td>0.378713</td>\n",
       "      <td>0.345297</td>\n",
       "      <td>0.330446</td>\n",
       "    </tr>\n",
       "  </tbody>\n",
       "</table>\n",
       "</div>"
      ],
      "text/plain": [
       "          9        7         5         3         1\n",
       "0  0.403465  0.39604  0.378713  0.345297  0.330446"
      ]
     },
     "execution_count": 81,
     "metadata": {},
     "output_type": "execute_result"
    }
   ],
   "source": [
    "nns = [1,3,5,7,9]\n",
    "knn_scores = np.zeros(len(nns),)\n",
    "for idx, alpha in enumerate(nns):\n",
    "    knn_preds = KNeighborsClassifier(n_neighbors=alpha).fit(x_train_multi_face,y_train_multi_face.astype('category')).predict(x_val_multi_face)\n",
    "    knn_score = np.sum(knn_preds==y_val_multi_face) / len(y_val_multi_face)\n",
    "    knn_scores[idx] = knn_score\n",
    "pd.DataFrame(data=knn_scores.reshape(-1,1),index=nns).sort_values(by=0,ascending=False).T"
   ]
  },
  {
   "cell_type": "markdown",
   "metadata": {},
   "source": [
    "##### KNN makes it slightly worse\n"
   ]
  },
  {
   "cell_type": "markdown",
   "metadata": {},
   "source": [
    "<a name='5e'></a>\n",
    "\n",
    "### Bayes approach\n",
    "\n",
    "Analytically, it would appear the best solution is to calculate the % chance of any individual number of goals based on the individual probabilities of each shot. For example, the chance of 0 goals is the product of (1-p) for all shots. The chance of 1 goal is similarly derived, looping over all shots and summing the probability that one shot went in, and the rest didn't. etc."
   ]
  },
  {
   "cell_type": "code",
   "execution_count": 82,
   "metadata": {},
   "outputs": [],
   "source": [
    "#Create val and train sets with match id, team id and a list of xGs \n",
    "xg_listed_val = events_df_val.groupby(by = ['matchId','teamId'])[['xG_logit']].agg(lambda x: [float(y) for y in x])\n",
    "xg_listed_train = events_df_train.groupby(by = ['matchId','teamId'])[['xG_logit']].agg(lambda x: [float(y) for y in x])\n",
    "xg_listed_train['clean'] = ''\n",
    "xg_listed_val['clean'] = ''\n",
    "\n",
    "#create a cleaned version of this without 0s\n",
    "def clean_xg_list(xg_listed):\n",
    "    counter = 0\n",
    "    for row in xg_listed.iterrows():\n",
    "        array_test =  row[1].values[0]\n",
    "        xg_listed.iloc[counter,1] = [x for x in array_test if x!= 0]\n",
    "        counter+=1\n",
    "clean_xg_list(xg_listed_val)\n",
    "clean_xg_list(xg_listed_train)"
   ]
  },
  {
   "cell_type": "markdown",
   "metadata": {},
   "source": [
    "#### Create function to create percentages for each score"
   ]
  },
  {
   "cell_type": "code",
   "execution_count": 93,
   "metadata": {},
   "outputs": [],
   "source": [
    "from math import factorial\n",
    "def prod_of_shots_complement(x: list):\n",
    "    return np.product([1-x for x in x])\n",
    "\n",
    "def QF(shot):\n",
    "    return shot / (1-shot)\n",
    "\n",
    "def check_0_goals(x: list):\n",
    "    return prod_of_shots_complement(x)\n",
    "\n",
    "def check_1_goal(x: list):\n",
    "    running_total = 0\n",
    "    for shot in x:\n",
    "        running_total += QF(shot) * prod_of_shots_complement(x)\n",
    "    return running_total\n",
    "\n",
    "def check_2_goal(x: list):\n",
    "    running_total = 0\n",
    "    for shot in x:\n",
    "        for shot2 in x:\n",
    "            if shot2!=shot:\n",
    "                running_total += np.multiply(QF(shot),QF(shot2)) * prod_of_shots_complement(x)\n",
    "    return running_total / 2\n",
    "\n",
    "def check_3_goal(x: list):\n",
    "    running_total = 0\n",
    "    for shot in x:\n",
    "        for shot2 in x:\n",
    "            if shot2 != shot:\n",
    "                for shot3 in x:\n",
    "                    if shot3 not in ([shot,shot2]):\n",
    "                        running_total += QF(shot)*QF(shot2)*QF(shot3) * prod_of_shots_complement(x)\n",
    "    return running_total / factorial(3)\n",
    "\n",
    "def check_4_goal(x: list):\n",
    "    running_total = 0\n",
    "    for shot in x:\n",
    "        for shot2 in x:\n",
    "            if shot2 != shot:\n",
    "                for shot3 in x:\n",
    "                     if shot3 not in ([shot,shot2]):\n",
    "                        for shot4 in x:\n",
    "                            if shot4 not in ([shot,shot2,shot3]):\n",
    "                                running_total += QF(shot)*QF(shot2)*QF(shot3)*QF(shot4) * prod_of_shots_complement(x)\n",
    "    return running_total / factorial(4)\n",
    "\n",
    "def check_5_goal(x: list):\n",
    "    running_total = 0\n",
    "    for shot in x:\n",
    "        for shot2 in x:\n",
    "            if shot2 != shot:\n",
    "                for shot3 in x:\n",
    "                     if shot3 not in ([shot,shot2]):\n",
    "                        for shot4 in x:\n",
    "                            if shot4 not in ([shot,shot2,shot3]):\n",
    "                                for shot5 in x:\n",
    "                                    if shot5 not in ([shot, shot2, shot3, shot4]):\n",
    "                                        running_total += QF(shot)*QF(shot2)*QF(shot3)*QF(shot4)*QF(shot5) * prod_of_shots_complement(x)\n",
    "    return running_total / factorial(5)\n",
    "\n",
    "def check_6_goal(x: list):\n",
    "    running_total = 0\n",
    "    for shot in x:\n",
    "        for shot2 in x:\n",
    "            if shot2 != shot:\n",
    "                for shot3 in x:\n",
    "                     if shot3 not in ([shot,shot2]):\n",
    "                        for shot4 in x:\n",
    "                            if shot4 not in ([shot,shot2,shot3]):\n",
    "                                for shot5 in x:\n",
    "                                    if shot5 not in ([shot, shot2, shot3, shot4]):\n",
    "                                        for shot6 in x:\n",
    "                                            if shot6 not in ([shot, shot2, shot3, shot4, shot5]):\n",
    "                                                running_total += QF(shot)*QF(shot2)*QF(shot3)*QF(shot4)*QF(shot5)*QF(shot6) * prod_of_shots_complement(x)\n",
    "    return running_total / factorial(6)\n",
    "\n",
    "def get_most_likely_score(x: list):\n",
    "    #check for 0 goals being highest\n",
    "    \n",
    "    best_score = 0\n",
    "    best_prob = check_0_goals(x)\n",
    "    #end early if 0 goals is more than 50% likely\n",
    "    if best_prob > 0.5:\n",
    "        return best_score, best_prob\n",
    "    else:\n",
    "        #now define a loop to walk through\n",
    "        def one_loop(best_score, best_prob, func):\n",
    "        #set 1 goal to temp prob\n",
    "            temp_prob = func(x)\n",
    "        #if 1 goal is less likely than 0 goals, return 0\n",
    "            if temp_prob < best_prob:\n",
    "                end_flag=True\n",
    "                return best_score, best_prob, end_flag\n",
    "            else:\n",
    "                best_prob = temp_prob\n",
    "                best_score = best_score+1\n",
    "                if best_score == 6:\n",
    "                    end_flag == True\n",
    "                else:\n",
    "                    end_flag = False\n",
    "                return best_score, best_prob, end_flag\n",
    "        \n",
    "        for func in [1,2,3,4,5,6]:\n",
    "            function = globals()[f'check_{str(func)}_goal']\n",
    "            best_score, best_prob, end_flag = one_loop(best_score, best_prob, function)\n",
    "            if (end_flag == True):\n",
    "                return best_score, best_prob\n",
    "                break"
   ]
  },
  {
   "cell_type": "code",
   "execution_count": 140,
   "metadata": {},
   "outputs": [],
   "source": [
    "#loop through each row and apply function\n",
    "def apply_prob_function_to_table(xg_table):\n",
    "    counter = 0\n",
    "    xg_table['ML_score'] =''\n",
    "    xg_table['ML_prob'] =''\n",
    "    for match in xg_table.iterrows():\n",
    "        one_match_data = match[1][1]\n",
    "        try:\n",
    "            best_score, best_prob = get_most_likely_score(one_match_data)\n",
    "            xg_table.iloc[counter,2] = best_score\n",
    "            xg_table.iloc[counter,3] = best_prob\n",
    "        except:\n",
    "            print(counter, one_match_data)\n",
    "        counter+=1"
   ]
  },
  {
   "cell_type": "code",
   "execution_count": 155,
   "metadata": {},
   "outputs": [],
   "source": [
    "'''to get the tbales run this, theyre saved'''\n",
    "# with open('saved_dfs/table_for_probabilistic_approach_train','w') as f:\n",
    "#     xg_listed_train.to_csv(f)\n",
    "# with open('saved_dfs/table_for_probabilistic_approach_val','w') as f:\n",
    "#     xg_listed_val.to_csv(f)    "
   ]
  },
  {
   "cell_type": "code",
   "execution_count": 157,
   "metadata": {},
   "outputs": [],
   "source": [
    "'''Doesnt need to be ran, i saved one earlier'''\n",
    "# xg_listed_train = pd.read_csv('saved_dfs/table_for_probabilistic_approach_train')\n",
    "# xg_listed_val = pd.read_csv('saved_dfs/table_for_probabilistic_approach_val')\n",
    "# apply_prob_function_to_table(xg_listed_val)\n",
    "# apply_prob_function_to_table(xg_listed_train)"
   ]
  },
  {
   "cell_type": "code",
   "execution_count": 158,
   "metadata": {},
   "outputs": [],
   "source": [
    "#in order to fit the 'judge performance' function, we need to amend the table so the indexes are columns\n",
    "xg_listed_val_reset = xg_listed_val.reset_index()\n",
    "xg_listed_train_reset = xg_listed_train.reset_index()"
   ]
  },
  {
   "cell_type": "code",
   "execution_count": 159,
   "metadata": {},
   "outputs": [
    {
     "name": "stdout",
     "output_type": "stream",
     "text": [
      "Training set performance:\n",
      "Average squared error of model: 1.3025018953752843\n",
      "Average rounded squared error shots model: 1.3025018953752843\n",
      "Correct scores: 43.1%\n",
      "Validation set performance:\n",
      "Average squared error of model: 1.2908415841584158\n",
      "Average rounded squared error shots model: 1.2908415841584158\n",
      "Correct scores: 41.5%\n"
     ]
    }
   ],
   "source": [
    "print(f'Training set performance:')\n",
    "a,b,c,d = judge_performance(xg_listed_train_reset, 'ML_score')\n",
    "print(f'Validation set performance:')\n",
    "a,b,c,d = judge_performance(xg_listed_val_reset, 'ML_score')\n"
   ]
  },
  {
   "cell_type": "markdown",
   "metadata": {},
   "source": [
    "#### Analysis\n",
    "\n",
    "The average squared error is higher than when we sum the xG up, but the averae number of correct scores is significantly higher. This makes sense, because we've taken the maximum likelihood, as opposed to the mean. This does come out slightly worse at predicting scores than the Ridge Classification, although the margin of error (1% on 340 samples) suggest this may be due to random chance"
   ]
  },
  {
   "cell_type": "markdown",
   "metadata": {},
   "source": [
    "<a name='5f'></a>\n",
    "\n",
    "\n",
    "### Run this on the Test Set \n",
    "\n",
    "We will use the probabilistic approach, given its interpretability in order to predict correct scores."
   ]
  },
  {
   "cell_type": "code",
   "execution_count": 252,
   "metadata": {},
   "outputs": [],
   "source": [
    "events_df_test['xG_logit'] = events_df_test.apply(lambda x: predict_xG(x.is_penalty,x.is_freekick,x['head'],x.counter_attack, x.opportunity, x.distance_to_goal, x.angle_to_goal,logit_model_basic_reduc) if x.subEventName in ev_filter else 0, axis=1)"
   ]
  },
  {
   "cell_type": "code",
   "execution_count": 253,
   "metadata": {},
   "outputs": [],
   "source": [
    "#group by match and ID\n",
    "xg_listed_test = events_df_test.groupby(by = ['matchId','teamId'])[['xG_logit']].agg(lambda x: [float(y) for y in x])\n",
    "#create clean column\n",
    "xg_listed_test['clean'] = ''\n",
    "#call cleaner function\n",
    "clean_xg_list(xg_listed_test)"
   ]
  },
  {
   "cell_type": "code",
   "execution_count": 254,
   "metadata": {},
   "outputs": [
    {
     "name": "stdout",
     "output_type": "stream",
     "text": [
      "316 [0.3702389998498019, 0.001879409957927046, 0.08098104887335049, 0.11317778376558588, 0.4076663818394155, 0.20633356516893064, 0.5977779536942629, 0.242260171399801, 0.29979369495008157, 0.09408590949715082, 0.2645200113068097, 0.4160969706487325, 0.40417021270601106, 0.4076663818394155, 0.006415150352810393, 0.0877370624688811, 0.15149389100044605, 0.7339071477112364, 0.2599462074474583, 0.6228815741855128, 0.2927791641959384, 0.1264900764164525, 0.241436084607404]\n"
     ]
    }
   ],
   "source": [
    "apply_prob_function_to_table(xg_listed_test)"
   ]
  },
  {
   "cell_type": "code",
   "execution_count": 255,
   "metadata": {},
   "outputs": [
    {
     "name": "stdout",
     "output_type": "stream",
     "text": [
      "Test set performance:\n"
     ]
    },
    {
     "ename": "TypeError",
     "evalue": "type str doesn't define __round__ method",
     "output_type": "error",
     "traceback": [
      "\u001b[0;31m---------------------------------------------------------------------------\u001b[0m",
      "\u001b[0;31mTypeError\u001b[0m                                 Traceback (most recent call last)",
      "\u001b[0;32m<ipython-input-255-8f2a92d687d1>\u001b[0m in \u001b[0;36m<module>\u001b[0;34m\u001b[0m\n\u001b[1;32m      1\u001b[0m \u001b[0mxg_listed_test_reset\u001b[0m \u001b[0;34m=\u001b[0m \u001b[0mxg_listed_test\u001b[0m\u001b[0;34m.\u001b[0m\u001b[0mreset_index\u001b[0m\u001b[0;34m(\u001b[0m\u001b[0;34m)\u001b[0m\u001b[0;34m\u001b[0m\u001b[0;34m\u001b[0m\u001b[0m\n\u001b[1;32m      2\u001b[0m \u001b[0mprint\u001b[0m\u001b[0;34m(\u001b[0m\u001b[0;34mf'Test set performance:'\u001b[0m\u001b[0;34m)\u001b[0m\u001b[0;34m\u001b[0m\u001b[0;34m\u001b[0m\u001b[0m\n\u001b[0;32m----> 3\u001b[0;31m \u001b[0ma\u001b[0m\u001b[0;34m,\u001b[0m\u001b[0mb\u001b[0m\u001b[0;34m,\u001b[0m\u001b[0mc\u001b[0m\u001b[0;34m,\u001b[0m\u001b[0md\u001b[0m \u001b[0;34m=\u001b[0m \u001b[0mjudge_performance\u001b[0m\u001b[0;34m(\u001b[0m\u001b[0mxg_listed_test_reset\u001b[0m\u001b[0;34m,\u001b[0m \u001b[0;34m'ML_score'\u001b[0m\u001b[0;34m)\u001b[0m\u001b[0;34m\u001b[0m\u001b[0;34m\u001b[0m\u001b[0m\n\u001b[0m",
      "\u001b[0;32m<ipython-input-49-e03c69faf1b3>\u001b[0m in \u001b[0;36mjudge_performance\u001b[0;34m(events_df_val, column_name)\u001b[0m\n\u001b[1;32m     16\u001b[0m     \u001b[0mgoals_predictions_table_shot_model\u001b[0m\u001b[0;34m[\u001b[0m\u001b[0;34m'actual_goals'\u001b[0m\u001b[0;34m]\u001b[0m \u001b[0;34m=\u001b[0m \u001b[0mgoals_predictions_table_shot_model\u001b[0m\u001b[0;34m.\u001b[0m\u001b[0mapply\u001b[0m\u001b[0;34m(\u001b[0m\u001b[0;32mlambda\u001b[0m \u001b[0mx\u001b[0m\u001b[0;34m:\u001b[0m \u001b[0mget_score\u001b[0m\u001b[0;34m(\u001b[0m\u001b[0mx\u001b[0m\u001b[0;34m.\u001b[0m\u001b[0mmatchId\u001b[0m\u001b[0;34m,\u001b[0m\u001b[0mstr\u001b[0m\u001b[0;34m(\u001b[0m\u001b[0mx\u001b[0m\u001b[0;34m.\u001b[0m\u001b[0mteamId\u001b[0m\u001b[0;34m)\u001b[0m\u001b[0;34m)\u001b[0m\u001b[0;34m,\u001b[0m\u001b[0maxis\u001b[0m\u001b[0;34m=\u001b[0m\u001b[0;36m1\u001b[0m\u001b[0;34m)\u001b[0m\u001b[0;34m\u001b[0m\u001b[0;34m\u001b[0m\u001b[0m\n\u001b[1;32m     17\u001b[0m     \u001b[0;31m#create a rounded xG metric\u001b[0m\u001b[0;34m\u001b[0m\u001b[0;34m\u001b[0m\u001b[0;34m\u001b[0m\u001b[0m\n\u001b[0;32m---> 18\u001b[0;31m     \u001b[0mgoals_predictions_table_shot_model\u001b[0m\u001b[0;34m[\u001b[0m\u001b[0;34m'rounded_xG'\u001b[0m\u001b[0;34m]\u001b[0m \u001b[0;34m=\u001b[0m \u001b[0mgoals_predictions_table_shot_model\u001b[0m\u001b[0;34m[\u001b[0m\u001b[0mcolumn_name\u001b[0m\u001b[0;34m]\u001b[0m\u001b[0;34m.\u001b[0m\u001b[0mapply\u001b[0m\u001b[0;34m(\u001b[0m\u001b[0;32mlambda\u001b[0m \u001b[0mx\u001b[0m\u001b[0;34m:\u001b[0m \u001b[0mround\u001b[0m\u001b[0;34m(\u001b[0m\u001b[0mx\u001b[0m\u001b[0;34m,\u001b[0m\u001b[0;36m0\u001b[0m\u001b[0;34m)\u001b[0m\u001b[0;34m)\u001b[0m\u001b[0;34m\u001b[0m\u001b[0;34m\u001b[0m\u001b[0m\n\u001b[0m\u001b[1;32m     19\u001b[0m \u001b[0;34m\u001b[0m\u001b[0m\n\u001b[1;32m     20\u001b[0m     \u001b[0;31m#create two error metrics\u001b[0m\u001b[0;34m\u001b[0m\u001b[0;34m\u001b[0m\u001b[0;34m\u001b[0m\u001b[0m\n",
      "\u001b[0;32m~/opt/anaconda3/lib/python3.8/site-packages/pandas/core/series.py\u001b[0m in \u001b[0;36mapply\u001b[0;34m(self, func, convert_dtype, args, **kwds)\u001b[0m\n\u001b[1;32m   4198\u001b[0m             \u001b[0;32melse\u001b[0m\u001b[0;34m:\u001b[0m\u001b[0;34m\u001b[0m\u001b[0;34m\u001b[0m\u001b[0m\n\u001b[1;32m   4199\u001b[0m                 \u001b[0mvalues\u001b[0m \u001b[0;34m=\u001b[0m \u001b[0mself\u001b[0m\u001b[0;34m.\u001b[0m\u001b[0mastype\u001b[0m\u001b[0;34m(\u001b[0m\u001b[0mobject\u001b[0m\u001b[0;34m)\u001b[0m\u001b[0;34m.\u001b[0m\u001b[0m_values\u001b[0m\u001b[0;34m\u001b[0m\u001b[0;34m\u001b[0m\u001b[0m\n\u001b[0;32m-> 4200\u001b[0;31m                 \u001b[0mmapped\u001b[0m \u001b[0;34m=\u001b[0m \u001b[0mlib\u001b[0m\u001b[0;34m.\u001b[0m\u001b[0mmap_infer\u001b[0m\u001b[0;34m(\u001b[0m\u001b[0mvalues\u001b[0m\u001b[0;34m,\u001b[0m \u001b[0mf\u001b[0m\u001b[0;34m,\u001b[0m \u001b[0mconvert\u001b[0m\u001b[0;34m=\u001b[0m\u001b[0mconvert_dtype\u001b[0m\u001b[0;34m)\u001b[0m\u001b[0;34m\u001b[0m\u001b[0;34m\u001b[0m\u001b[0m\n\u001b[0m\u001b[1;32m   4201\u001b[0m \u001b[0;34m\u001b[0m\u001b[0m\n\u001b[1;32m   4202\u001b[0m         \u001b[0;32mif\u001b[0m \u001b[0mlen\u001b[0m\u001b[0;34m(\u001b[0m\u001b[0mmapped\u001b[0m\u001b[0;34m)\u001b[0m \u001b[0;32mand\u001b[0m \u001b[0misinstance\u001b[0m\u001b[0;34m(\u001b[0m\u001b[0mmapped\u001b[0m\u001b[0;34m[\u001b[0m\u001b[0;36m0\u001b[0m\u001b[0;34m]\u001b[0m\u001b[0;34m,\u001b[0m \u001b[0mSeries\u001b[0m\u001b[0;34m)\u001b[0m\u001b[0;34m:\u001b[0m\u001b[0;34m\u001b[0m\u001b[0;34m\u001b[0m\u001b[0m\n",
      "\u001b[0;32mpandas/_libs/lib.pyx\u001b[0m in \u001b[0;36mpandas._libs.lib.map_infer\u001b[0;34m()\u001b[0m\n",
      "\u001b[0;32m<ipython-input-49-e03c69faf1b3>\u001b[0m in \u001b[0;36m<lambda>\u001b[0;34m(x)\u001b[0m\n\u001b[1;32m     16\u001b[0m     \u001b[0mgoals_predictions_table_shot_model\u001b[0m\u001b[0;34m[\u001b[0m\u001b[0;34m'actual_goals'\u001b[0m\u001b[0;34m]\u001b[0m \u001b[0;34m=\u001b[0m \u001b[0mgoals_predictions_table_shot_model\u001b[0m\u001b[0;34m.\u001b[0m\u001b[0mapply\u001b[0m\u001b[0;34m(\u001b[0m\u001b[0;32mlambda\u001b[0m \u001b[0mx\u001b[0m\u001b[0;34m:\u001b[0m \u001b[0mget_score\u001b[0m\u001b[0;34m(\u001b[0m\u001b[0mx\u001b[0m\u001b[0;34m.\u001b[0m\u001b[0mmatchId\u001b[0m\u001b[0;34m,\u001b[0m\u001b[0mstr\u001b[0m\u001b[0;34m(\u001b[0m\u001b[0mx\u001b[0m\u001b[0;34m.\u001b[0m\u001b[0mteamId\u001b[0m\u001b[0;34m)\u001b[0m\u001b[0;34m)\u001b[0m\u001b[0;34m,\u001b[0m\u001b[0maxis\u001b[0m\u001b[0;34m=\u001b[0m\u001b[0;36m1\u001b[0m\u001b[0;34m)\u001b[0m\u001b[0;34m\u001b[0m\u001b[0;34m\u001b[0m\u001b[0m\n\u001b[1;32m     17\u001b[0m     \u001b[0;31m#create a rounded xG metric\u001b[0m\u001b[0;34m\u001b[0m\u001b[0;34m\u001b[0m\u001b[0;34m\u001b[0m\u001b[0m\n\u001b[0;32m---> 18\u001b[0;31m     \u001b[0mgoals_predictions_table_shot_model\u001b[0m\u001b[0;34m[\u001b[0m\u001b[0;34m'rounded_xG'\u001b[0m\u001b[0;34m]\u001b[0m \u001b[0;34m=\u001b[0m \u001b[0mgoals_predictions_table_shot_model\u001b[0m\u001b[0;34m[\u001b[0m\u001b[0mcolumn_name\u001b[0m\u001b[0;34m]\u001b[0m\u001b[0;34m.\u001b[0m\u001b[0mapply\u001b[0m\u001b[0;34m(\u001b[0m\u001b[0;32mlambda\u001b[0m \u001b[0mx\u001b[0m\u001b[0;34m:\u001b[0m \u001b[0mround\u001b[0m\u001b[0;34m(\u001b[0m\u001b[0mx\u001b[0m\u001b[0;34m,\u001b[0m\u001b[0;36m0\u001b[0m\u001b[0;34m)\u001b[0m\u001b[0;34m)\u001b[0m\u001b[0;34m\u001b[0m\u001b[0;34m\u001b[0m\u001b[0m\n\u001b[0m\u001b[1;32m     19\u001b[0m \u001b[0;34m\u001b[0m\u001b[0m\n\u001b[1;32m     20\u001b[0m     \u001b[0;31m#create two error metrics\u001b[0m\u001b[0;34m\u001b[0m\u001b[0;34m\u001b[0m\u001b[0;34m\u001b[0m\u001b[0m\n",
      "\u001b[0;31mTypeError\u001b[0m: type str doesn't define __round__ method"
     ]
    }
   ],
   "source": [
    "xg_listed_test_reset = xg_listed_test.reset_index()\n",
    "print(f'Test set performance:')\n",
    "a,b,c,d = judge_performance(xg_listed_test_reset, 'ML_score')\n"
   ]
  },
  {
   "cell_type": "markdown",
   "metadata": {},
   "source": [
    "## IGNORE BELOW"
   ]
  },
  {
   "cell_type": "markdown",
   "metadata": {},
   "source": [
    "We are interested with specific types of action \n",
    "\n",
    "1) Passing to team mate\n",
    "\n",
    "2) Dribbling into different area of pitch.\n",
    "\n",
    "3) Shooting (and scoring)\n",
    "\n",
    "Taking them in turn. Note: ignore set pieces for now\n",
    "\n",
    "Passing: this can be assessed via:\n",
    "        \n",
    "        high_level_event_Name = 'Pass'\n",
    "\n",
    "        subEventName = 'simple, high, head and smart' (pass)\n",
    "\n",
    "        Direction of pass is assessed through the first and second 'positions' in the event data.\n",
    "\n",
    "        Cross\n",
    "\n",
    "        Success can be established through tags 1801 (accurate), 1802 (not accurate)\n",
    "\n",
    "Dribbling: It appears that this can be assessed through\n",
    "\n",
    "        subEventName = 'touch' \n",
    "      AND\n",
    "        subEventName = 'ground attacking duel'  \n",
    "                with tags 701 (won), 702 (neutral), 703 (lost)\n",
    "\n",
    "\n",
    "Shooting: This can be assessed through \n",
    "        \n",
    "        high_level_event_Name = 'shot'\n",
    "\n",
    "        tags --> 0(goal),  5(left), 6(right), 7 (head)\n",
    "\n",
    "In order to assess the \"Threat\" of a team being in a certain area, we will look at three main things\n",
    "\n",
    "1) The % chance that they score if they shoot from that spot\n",
    "\n",
    "2) The % chance of a player shooting before attempting a pass/dribble or getting tackled.\n",
    "\n",
    "3) The transition_matrix - the chance of him passing to another play in a different zone, and the threat that that zone carries from 1&2.\n",
    "\n",
    "\n",
    "                "
   ]
  },
  {
   "cell_type": "markdown",
   "metadata": {},
   "source": [
    "## Data check - what do the tags mean\n"
   ]
  },
  {
   "cell_type": "code",
   "execution_count": 105,
   "metadata": {},
   "outputs": [
    {
     "data": {
      "text/plain": [
       "['901', '902']"
      ]
     },
     "execution_count": 105,
     "metadata": {},
     "output_type": "execute_result"
    }
   ],
   "source": [
    "fake_dict = [{'id':'901'}, {'id':'902'}]\n",
    "([val['id'] for val in fake_dict])"
   ]
  },
  {
   "cell_type": "code",
   "execution_count": 109,
   "metadata": {},
   "outputs": [],
   "source": [
    "#what does 'through' mean?\n",
    "#just getting rid of that annoying tag 'list' which did nothing anyway\n",
    "df['through_ball'] = df['tags'].apply(lambda x: True if 901 in [val['id'] for val in x] else False)\n",
    "        "
   ]
  },
  {
   "cell_type": "code",
   "execution_count": 110,
   "metadata": {},
   "outputs": [
    {
     "data": {
      "text/html": [
       "<div>\n",
       "<style scoped>\n",
       "    .dataframe tbody tr th:only-of-type {\n",
       "        vertical-align: middle;\n",
       "    }\n",
       "\n",
       "    .dataframe tbody tr th {\n",
       "        vertical-align: top;\n",
       "    }\n",
       "\n",
       "    .dataframe thead th {\n",
       "        text-align: right;\n",
       "    }\n",
       "</style>\n",
       "<table border=\"1\" class=\"dataframe\">\n",
       "  <thead>\n",
       "    <tr style=\"text-align: right;\">\n",
       "      <th></th>\n",
       "      <th>eventId</th>\n",
       "      <th>subEventName</th>\n",
       "      <th>tags</th>\n",
       "      <th>playerId</th>\n",
       "      <th>positions</th>\n",
       "      <th>matchId</th>\n",
       "      <th>eventName</th>\n",
       "      <th>teamId</th>\n",
       "      <th>matchPeriod</th>\n",
       "      <th>eventSec</th>\n",
       "      <th>subEventId</th>\n",
       "      <th>id</th>\n",
       "      <th>tags_no_list</th>\n",
       "      <th>through_ball</th>\n",
       "    </tr>\n",
       "  </thead>\n",
       "  <tbody>\n",
       "    <tr>\n",
       "      <th>24</th>\n",
       "      <td>8</td>\n",
       "      <td>Smart pass</td>\n",
       "      <td>[{'id': 901}, {'id': 1802}]</td>\n",
       "      <td>14763</td>\n",
       "      <td>[{'y': 15, 'x': 71}, {'y': 26, 'x': 81}]</td>\n",
       "      <td>2499719</td>\n",
       "      <td>Pass</td>\n",
       "      <td>1631</td>\n",
       "      <td>1H</td>\n",
       "      <td>39.940109</td>\n",
       "      <td>86</td>\n",
       "      <td>177959206</td>\n",
       "      <td>{'id': 901}</td>\n",
       "      <td>True</td>\n",
       "    </tr>\n",
       "    <tr>\n",
       "      <th>104</th>\n",
       "      <td>8</td>\n",
       "      <td>High pass</td>\n",
       "      <td>[{'id': 901}, {'id': 1802}]</td>\n",
       "      <td>192748</td>\n",
       "      <td>[{'y': 53, 'x': 55}, {'y': 54, 'x': 87}]</td>\n",
       "      <td>2499719</td>\n",
       "      <td>Pass</td>\n",
       "      <td>1631</td>\n",
       "      <td>1H</td>\n",
       "      <td>349.806262</td>\n",
       "      <td>83</td>\n",
       "      <td>177959300</td>\n",
       "      <td>{'id': 901}</td>\n",
       "      <td>True</td>\n",
       "    </tr>\n",
       "    <tr>\n",
       "      <th>116</th>\n",
       "      <td>8</td>\n",
       "      <td>Smart pass</td>\n",
       "      <td>[{'id': 901}, {'id': 1801}]</td>\n",
       "      <td>8013</td>\n",
       "      <td>[{'y': 8, 'x': 44}, {'y': 17, 'x': 83}]</td>\n",
       "      <td>2499719</td>\n",
       "      <td>Pass</td>\n",
       "      <td>1631</td>\n",
       "      <td>1H</td>\n",
       "      <td>402.998466</td>\n",
       "      <td>86</td>\n",
       "      <td>177959312</td>\n",
       "      <td>{'id': 901}</td>\n",
       "      <td>True</td>\n",
       "    </tr>\n",
       "    <tr>\n",
       "      <th>143</th>\n",
       "      <td>8</td>\n",
       "      <td>High pass</td>\n",
       "      <td>[{'id': 901}, {'id': 1802}]</td>\n",
       "      <td>14853</td>\n",
       "      <td>[{'y': 4, 'x': 63}, {'y': 96, 'x': 100}]</td>\n",
       "      <td>2499719</td>\n",
       "      <td>Pass</td>\n",
       "      <td>1631</td>\n",
       "      <td>1H</td>\n",
       "      <td>498.389197</td>\n",
       "      <td>83</td>\n",
       "      <td>177959354</td>\n",
       "      <td>{'id': 901}</td>\n",
       "      <td>True</td>\n",
       "    </tr>\n",
       "    <tr>\n",
       "      <th>266</th>\n",
       "      <td>8</td>\n",
       "      <td>High pass</td>\n",
       "      <td>[{'id': 901}, {'id': 1802}]</td>\n",
       "      <td>49876</td>\n",
       "      <td>[{'y': 31, 'x': 66}, {'y': 34, 'x': 87}]</td>\n",
       "      <td>2499719</td>\n",
       "      <td>Pass</td>\n",
       "      <td>1609</td>\n",
       "      <td>1H</td>\n",
       "      <td>847.997654</td>\n",
       "      <td>83</td>\n",
       "      <td>177959445</td>\n",
       "      <td>{'id': 901}</td>\n",
       "      <td>True</td>\n",
       "    </tr>\n",
       "    <tr>\n",
       "      <th>...</th>\n",
       "      <td>...</td>\n",
       "      <td>...</td>\n",
       "      <td>...</td>\n",
       "      <td>...</td>\n",
       "      <td>...</td>\n",
       "      <td>...</td>\n",
       "      <td>...</td>\n",
       "      <td>...</td>\n",
       "      <td>...</td>\n",
       "      <td>...</td>\n",
       "      <td>...</td>\n",
       "      <td>...</td>\n",
       "      <td>...</td>\n",
       "      <td>...</td>\n",
       "    </tr>\n",
       "    <tr>\n",
       "      <th>642835</th>\n",
       "      <td>8</td>\n",
       "      <td>High pass</td>\n",
       "      <td>[{'id': 901}, {'id': 1802}]</td>\n",
       "      <td>7879</td>\n",
       "      <td>[{'y': 48, 'x': 73}, {'y': 63, 'x': 100}]</td>\n",
       "      <td>2500098</td>\n",
       "      <td>Pass</td>\n",
       "      <td>1623</td>\n",
       "      <td>2H</td>\n",
       "      <td>1502.370532</td>\n",
       "      <td>83</td>\n",
       "      <td>251596218</td>\n",
       "      <td>{'id': 901}</td>\n",
       "      <td>True</td>\n",
       "    </tr>\n",
       "    <tr>\n",
       "      <th>642999</th>\n",
       "      <td>8</td>\n",
       "      <td>Smart pass</td>\n",
       "      <td>[{'id': 901}, {'id': 1802}]</td>\n",
       "      <td>70965</td>\n",
       "      <td>[{'y': 42, 'x': 67}, {'y': 25, 'x': 73}]</td>\n",
       "      <td>2500098</td>\n",
       "      <td>Pass</td>\n",
       "      <td>1633</td>\n",
       "      <td>2H</td>\n",
       "      <td>2105.759366</td>\n",
       "      <td>86</td>\n",
       "      <td>251596090</td>\n",
       "      <td>{'id': 901}</td>\n",
       "      <td>True</td>\n",
       "    </tr>\n",
       "    <tr>\n",
       "      <th>643015</th>\n",
       "      <td>8</td>\n",
       "      <td>High pass</td>\n",
       "      <td>[{'id': 901}, {'id': 1802}]</td>\n",
       "      <td>8143</td>\n",
       "      <td>[{'y': 22, 'x': 66}, {'y': 36, 'x': 100}]</td>\n",
       "      <td>2500098</td>\n",
       "      <td>Pass</td>\n",
       "      <td>1623</td>\n",
       "      <td>2H</td>\n",
       "      <td>2146.389227</td>\n",
       "      <td>83</td>\n",
       "      <td>251596329</td>\n",
       "      <td>{'id': 901}</td>\n",
       "      <td>True</td>\n",
       "    </tr>\n",
       "    <tr>\n",
       "      <th>643034</th>\n",
       "      <td>8</td>\n",
       "      <td>Smart pass</td>\n",
       "      <td>[{'id': 901}, {'id': 1802}]</td>\n",
       "      <td>145692</td>\n",
       "      <td>[{'y': 46, 'x': 70}, {'y': 18, 'x': 82}]</td>\n",
       "      <td>2500098</td>\n",
       "      <td>Pass</td>\n",
       "      <td>1623</td>\n",
       "      <td>2H</td>\n",
       "      <td>2304.927553</td>\n",
       "      <td>86</td>\n",
       "      <td>251596340</td>\n",
       "      <td>{'id': 901}</td>\n",
       "      <td>True</td>\n",
       "    </tr>\n",
       "    <tr>\n",
       "      <th>643050</th>\n",
       "      <td>8</td>\n",
       "      <td>Smart pass</td>\n",
       "      <td>[{'id': 302}, {'id': 901}, {'id': 1801}]</td>\n",
       "      <td>145692</td>\n",
       "      <td>[{'y': 41, 'x': 73}, {'y': 62, 'x': 88}]</td>\n",
       "      <td>2500098</td>\n",
       "      <td>Pass</td>\n",
       "      <td>1623</td>\n",
       "      <td>2H</td>\n",
       "      <td>2375.561699</td>\n",
       "      <td>86</td>\n",
       "      <td>251596355</td>\n",
       "      <td>{'id': 302}</td>\n",
       "      <td>True</td>\n",
       "    </tr>\n",
       "  </tbody>\n",
       "</table>\n",
       "<p>5885 rows × 14 columns</p>\n",
       "</div>"
      ],
      "text/plain": [
       "        eventId subEventName                                      tags  \\\n",
       "24            8   Smart pass               [{'id': 901}, {'id': 1802}]   \n",
       "104           8    High pass               [{'id': 901}, {'id': 1802}]   \n",
       "116           8   Smart pass               [{'id': 901}, {'id': 1801}]   \n",
       "143           8    High pass               [{'id': 901}, {'id': 1802}]   \n",
       "266           8    High pass               [{'id': 901}, {'id': 1802}]   \n",
       "...         ...          ...                                       ...   \n",
       "642835        8    High pass               [{'id': 901}, {'id': 1802}]   \n",
       "642999        8   Smart pass               [{'id': 901}, {'id': 1802}]   \n",
       "643015        8    High pass               [{'id': 901}, {'id': 1802}]   \n",
       "643034        8   Smart pass               [{'id': 901}, {'id': 1802}]   \n",
       "643050        8   Smart pass  [{'id': 302}, {'id': 901}, {'id': 1801}]   \n",
       "\n",
       "        playerId                                  positions  matchId  \\\n",
       "24         14763   [{'y': 15, 'x': 71}, {'y': 26, 'x': 81}]  2499719   \n",
       "104       192748   [{'y': 53, 'x': 55}, {'y': 54, 'x': 87}]  2499719   \n",
       "116         8013    [{'y': 8, 'x': 44}, {'y': 17, 'x': 83}]  2499719   \n",
       "143        14853   [{'y': 4, 'x': 63}, {'y': 96, 'x': 100}]  2499719   \n",
       "266        49876   [{'y': 31, 'x': 66}, {'y': 34, 'x': 87}]  2499719   \n",
       "...          ...                                        ...      ...   \n",
       "642835      7879  [{'y': 48, 'x': 73}, {'y': 63, 'x': 100}]  2500098   \n",
       "642999     70965   [{'y': 42, 'x': 67}, {'y': 25, 'x': 73}]  2500098   \n",
       "643015      8143  [{'y': 22, 'x': 66}, {'y': 36, 'x': 100}]  2500098   \n",
       "643034    145692   [{'y': 46, 'x': 70}, {'y': 18, 'x': 82}]  2500098   \n",
       "643050    145692   [{'y': 41, 'x': 73}, {'y': 62, 'x': 88}]  2500098   \n",
       "\n",
       "       eventName  teamId matchPeriod     eventSec subEventId         id  \\\n",
       "24          Pass    1631          1H    39.940109         86  177959206   \n",
       "104         Pass    1631          1H   349.806262         83  177959300   \n",
       "116         Pass    1631          1H   402.998466         86  177959312   \n",
       "143         Pass    1631          1H   498.389197         83  177959354   \n",
       "266         Pass    1609          1H   847.997654         83  177959445   \n",
       "...          ...     ...         ...          ...        ...        ...   \n",
       "642835      Pass    1623          2H  1502.370532         83  251596218   \n",
       "642999      Pass    1633          2H  2105.759366         86  251596090   \n",
       "643015      Pass    1623          2H  2146.389227         83  251596329   \n",
       "643034      Pass    1623          2H  2304.927553         86  251596340   \n",
       "643050      Pass    1623          2H  2375.561699         86  251596355   \n",
       "\n",
       "       tags_no_list  through_ball  \n",
       "24      {'id': 901}          True  \n",
       "104     {'id': 901}          True  \n",
       "116     {'id': 901}          True  \n",
       "143     {'id': 901}          True  \n",
       "266     {'id': 901}          True  \n",
       "...             ...           ...  \n",
       "642835  {'id': 901}          True  \n",
       "642999  {'id': 901}          True  \n",
       "643015  {'id': 901}          True  \n",
       "643034  {'id': 901}          True  \n",
       "643050  {'id': 302}          True  \n",
       "\n",
       "[5885 rows x 14 columns]"
      ]
     },
     "execution_count": 110,
     "metadata": {},
     "output_type": "execute_result"
    }
   ],
   "source": [
    "df[df['through_ball'] == True]"
   ]
  },
  {
   "cell_type": "markdown",
   "metadata": {},
   "source": [
    "OK so through ball is another possible tag for a pass that i'll include in trying to measure how successful a transition is."
   ]
  },
  {
   "cell_type": "markdown",
   "metadata": {},
   "source": [
    "## First major task is to divide the pitch up into sections of relatively equal value !"
   ]
  },
  {
   "cell_type": "markdown",
   "metadata": {},
   "source": [
    "Lets' start by dividing it into 2x2 chunks and then measuring conversion at each. we can then maybe derive a formula for angle and distance to goal"
   ]
  },
  {
   "cell_type": "code",
   "execution_count": 251,
   "metadata": {},
   "outputs": [],
   "source": [
    "#add the logit model scores to the test set\n",
    "events_df_test['xG_logit'] = events_df_test.apply(lambda x: predict_xG(x.is_penalty,x.is_freekick,x['head'],x.counter_attack, x.opportunity, x.distance_to_goal, x.angle_to_goal,logit_model_basic_reduc) if x.subEventName in ev_filter else 0, axis=1)"
   ]
  },
  {
   "cell_type": "code",
   "execution_count": null,
   "metadata": {},
   "outputs": [],
   "source": []
  }
 ],
 "metadata": {
  "kernelspec": {
   "display_name": "Python 3",
   "language": "python",
   "name": "python3"
  },
  "language_info": {
   "codemirror_mode": {
    "name": "ipython",
    "version": 3
   },
   "file_extension": ".py",
   "mimetype": "text/x-python",
   "name": "python",
   "nbconvert_exporter": "python",
   "pygments_lexer": "ipython3",
   "version": "3.8.5"
  },
  "metadata": {
   "interpreter": {
    "hash": "ae44bc0eae4a697e13956773fab0a10687b55ffe583901dc88e01866ea6f570f"
   }
  }
 },
 "nbformat": 4,
 "nbformat_minor": 4
}
